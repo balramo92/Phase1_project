{
 "cells": [
  {
   "cell_type": "markdown",
   "metadata": {},
   "source": [
    "# Aviation Safety Data Analysis\n",
    "\n",
    "## Author: [Balram Ottapathu](mailto:balramo92@gmail.com)"
   ]
  },
  {
   "cell_type": "markdown",
   "metadata": {},
   "source": [
    "# Business Understanding\n"
   ]
  },
  {
   "cell_type": "markdown",
   "metadata": {},
   "source": [
    "My company is expanding in to new industries to diversify its portfolio. Specifically, we are interested in purchasing and operating airplanes for commercial and private enterprises, but do not know anything about the potential risks of aircraft. I am charged with determining which aircraft are the lowest risk for the company to start this new business endeavor. I must then translate your findings into actionable insights that the head of the new aviation division can use to help decide which aircraft to purchase."
   ]
  },
  {
   "cell_type": "markdown",
   "metadata": {},
   "source": [
    "# Data Understanding"
   ]
  },
  {
   "cell_type": "code",
   "execution_count": 1,
   "metadata": {},
   "outputs": [],
   "source": [
    "# Need to import necessary libraries to read and work with the data\n",
    "import pandas as pd\n",
    "import numpy as np\n",
    "import matplotlib.pyplot as plt\n",
    "%matplotlib inline \n"
   ]
  },
  {
   "cell_type": "code",
   "execution_count": 2,
   "metadata": {
    "scrolled": true
   },
   "outputs": [
    {
     "data": {
      "text/html": [
       "<div>\n",
       "<style scoped>\n",
       "    .dataframe tbody tr th:only-of-type {\n",
       "        vertical-align: middle;\n",
       "    }\n",
       "\n",
       "    .dataframe tbody tr th {\n",
       "        vertical-align: top;\n",
       "    }\n",
       "\n",
       "    .dataframe thead th {\n",
       "        text-align: right;\n",
       "    }\n",
       "</style>\n",
       "<table border=\"1\" class=\"dataframe\">\n",
       "  <thead>\n",
       "    <tr style=\"text-align: right;\">\n",
       "      <th></th>\n",
       "      <th>Event.Id</th>\n",
       "      <th>Investigation.Type</th>\n",
       "      <th>Accident.Number</th>\n",
       "      <th>Event.Date</th>\n",
       "      <th>Location</th>\n",
       "      <th>Country</th>\n",
       "      <th>Latitude</th>\n",
       "      <th>Longitude</th>\n",
       "      <th>Airport.Code</th>\n",
       "      <th>Airport.Name</th>\n",
       "      <th>...</th>\n",
       "      <th>Purpose.of.flight</th>\n",
       "      <th>Air.carrier</th>\n",
       "      <th>Total.Fatal.Injuries</th>\n",
       "      <th>Total.Serious.Injuries</th>\n",
       "      <th>Total.Minor.Injuries</th>\n",
       "      <th>Total.Uninjured</th>\n",
       "      <th>Weather.Condition</th>\n",
       "      <th>Broad.phase.of.flight</th>\n",
       "      <th>Report.Status</th>\n",
       "      <th>Publication.Date</th>\n",
       "    </tr>\n",
       "  </thead>\n",
       "  <tbody>\n",
       "    <tr>\n",
       "      <th>0</th>\n",
       "      <td>20001218X45444</td>\n",
       "      <td>Accident</td>\n",
       "      <td>SEA87LA080</td>\n",
       "      <td>1948-10-24</td>\n",
       "      <td>MOOSE CREEK, ID</td>\n",
       "      <td>United States</td>\n",
       "      <td>NaN</td>\n",
       "      <td>NaN</td>\n",
       "      <td>NaN</td>\n",
       "      <td>NaN</td>\n",
       "      <td>...</td>\n",
       "      <td>Personal</td>\n",
       "      <td>NaN</td>\n",
       "      <td>2.0</td>\n",
       "      <td>0.0</td>\n",
       "      <td>0.0</td>\n",
       "      <td>0.0</td>\n",
       "      <td>UNK</td>\n",
       "      <td>Cruise</td>\n",
       "      <td>Probable Cause</td>\n",
       "      <td>NaN</td>\n",
       "    </tr>\n",
       "    <tr>\n",
       "      <th>1</th>\n",
       "      <td>20001218X45447</td>\n",
       "      <td>Accident</td>\n",
       "      <td>LAX94LA336</td>\n",
       "      <td>1962-07-19</td>\n",
       "      <td>BRIDGEPORT, CA</td>\n",
       "      <td>United States</td>\n",
       "      <td>NaN</td>\n",
       "      <td>NaN</td>\n",
       "      <td>NaN</td>\n",
       "      <td>NaN</td>\n",
       "      <td>...</td>\n",
       "      <td>Personal</td>\n",
       "      <td>NaN</td>\n",
       "      <td>4.0</td>\n",
       "      <td>0.0</td>\n",
       "      <td>0.0</td>\n",
       "      <td>0.0</td>\n",
       "      <td>UNK</td>\n",
       "      <td>Unknown</td>\n",
       "      <td>Probable Cause</td>\n",
       "      <td>19-09-1996</td>\n",
       "    </tr>\n",
       "    <tr>\n",
       "      <th>2</th>\n",
       "      <td>20061025X01555</td>\n",
       "      <td>Accident</td>\n",
       "      <td>NYC07LA005</td>\n",
       "      <td>1974-08-30</td>\n",
       "      <td>Saltville, VA</td>\n",
       "      <td>United States</td>\n",
       "      <td>36.922223</td>\n",
       "      <td>-81.878056</td>\n",
       "      <td>NaN</td>\n",
       "      <td>NaN</td>\n",
       "      <td>...</td>\n",
       "      <td>Personal</td>\n",
       "      <td>NaN</td>\n",
       "      <td>3.0</td>\n",
       "      <td>NaN</td>\n",
       "      <td>NaN</td>\n",
       "      <td>NaN</td>\n",
       "      <td>IMC</td>\n",
       "      <td>Cruise</td>\n",
       "      <td>Probable Cause</td>\n",
       "      <td>26-02-2007</td>\n",
       "    </tr>\n",
       "    <tr>\n",
       "      <th>3</th>\n",
       "      <td>20001218X45448</td>\n",
       "      <td>Accident</td>\n",
       "      <td>LAX96LA321</td>\n",
       "      <td>1977-06-19</td>\n",
       "      <td>EUREKA, CA</td>\n",
       "      <td>United States</td>\n",
       "      <td>NaN</td>\n",
       "      <td>NaN</td>\n",
       "      <td>NaN</td>\n",
       "      <td>NaN</td>\n",
       "      <td>...</td>\n",
       "      <td>Personal</td>\n",
       "      <td>NaN</td>\n",
       "      <td>2.0</td>\n",
       "      <td>0.0</td>\n",
       "      <td>0.0</td>\n",
       "      <td>0.0</td>\n",
       "      <td>IMC</td>\n",
       "      <td>Cruise</td>\n",
       "      <td>Probable Cause</td>\n",
       "      <td>12-09-2000</td>\n",
       "    </tr>\n",
       "    <tr>\n",
       "      <th>4</th>\n",
       "      <td>20041105X01764</td>\n",
       "      <td>Accident</td>\n",
       "      <td>CHI79FA064</td>\n",
       "      <td>1979-08-02</td>\n",
       "      <td>Canton, OH</td>\n",
       "      <td>United States</td>\n",
       "      <td>NaN</td>\n",
       "      <td>NaN</td>\n",
       "      <td>NaN</td>\n",
       "      <td>NaN</td>\n",
       "      <td>...</td>\n",
       "      <td>Personal</td>\n",
       "      <td>NaN</td>\n",
       "      <td>1.0</td>\n",
       "      <td>2.0</td>\n",
       "      <td>NaN</td>\n",
       "      <td>0.0</td>\n",
       "      <td>VMC</td>\n",
       "      <td>Approach</td>\n",
       "      <td>Probable Cause</td>\n",
       "      <td>16-04-1980</td>\n",
       "    </tr>\n",
       "  </tbody>\n",
       "</table>\n",
       "<p>5 rows × 31 columns</p>\n",
       "</div>"
      ],
      "text/plain": [
       "         Event.Id Investigation.Type Accident.Number  Event.Date  \\\n",
       "0  20001218X45444           Accident      SEA87LA080  1948-10-24   \n",
       "1  20001218X45447           Accident      LAX94LA336  1962-07-19   \n",
       "2  20061025X01555           Accident      NYC07LA005  1974-08-30   \n",
       "3  20001218X45448           Accident      LAX96LA321  1977-06-19   \n",
       "4  20041105X01764           Accident      CHI79FA064  1979-08-02   \n",
       "\n",
       "          Location        Country   Latitude   Longitude Airport.Code  \\\n",
       "0  MOOSE CREEK, ID  United States        NaN         NaN          NaN   \n",
       "1   BRIDGEPORT, CA  United States        NaN         NaN          NaN   \n",
       "2    Saltville, VA  United States  36.922223  -81.878056          NaN   \n",
       "3       EUREKA, CA  United States        NaN         NaN          NaN   \n",
       "4       Canton, OH  United States        NaN         NaN          NaN   \n",
       "\n",
       "  Airport.Name  ... Purpose.of.flight Air.carrier Total.Fatal.Injuries  \\\n",
       "0          NaN  ...          Personal         NaN                  2.0   \n",
       "1          NaN  ...          Personal         NaN                  4.0   \n",
       "2          NaN  ...          Personal         NaN                  3.0   \n",
       "3          NaN  ...          Personal         NaN                  2.0   \n",
       "4          NaN  ...          Personal         NaN                  1.0   \n",
       "\n",
       "  Total.Serious.Injuries Total.Minor.Injuries Total.Uninjured  \\\n",
       "0                    0.0                  0.0             0.0   \n",
       "1                    0.0                  0.0             0.0   \n",
       "2                    NaN                  NaN             NaN   \n",
       "3                    0.0                  0.0             0.0   \n",
       "4                    2.0                  NaN             0.0   \n",
       "\n",
       "  Weather.Condition  Broad.phase.of.flight   Report.Status Publication.Date  \n",
       "0               UNK                 Cruise  Probable Cause              NaN  \n",
       "1               UNK                Unknown  Probable Cause       19-09-1996  \n",
       "2               IMC                 Cruise  Probable Cause       26-02-2007  \n",
       "3               IMC                 Cruise  Probable Cause       12-09-2000  \n",
       "4               VMC               Approach  Probable Cause       16-04-1980  \n",
       "\n",
       "[5 rows x 31 columns]"
      ]
     },
     "execution_count": 2,
     "metadata": {},
     "output_type": "execute_result"
    }
   ],
   "source": [
    "# Get a preliminary understanding of the data\n",
    "df = pd.read_csv('data/AviationData.csv', encoding='latin-1', low_memory = False)\n",
    "df.head()\n",
    "\n"
   ]
  },
  {
   "cell_type": "markdown",
   "metadata": {},
   "source": [
    "Lets try to understand the data in the set"
   ]
  },
  {
   "cell_type": "markdown",
   "metadata": {},
   "source": [
    "After exploring the schema:\n",
    "\n",
    "        1. There are 31 columns, 5 columns of data type float 64 and the rest are string. There are 88889 rows of data\n",
    "        2. There are only 4 columns with no null values, There are 13 columns with over 10000 null values\n",
    "        3. There are duplicate values in the following columns:\n",
    "                \n",
    "                a. Make\n",
    "                b. Injury.Severity\n",
    "                c. Engine Type\n",
    "                d. Purpose of flight\n",
    "                e. Weather Condition\n",
    "                f. Purpose of flight\n",
    "                \n",
    "        4. The date column is currently in the string format, this needs to be changed\n",
    "        "
   ]
  },
  {
   "cell_type": "code",
   "execution_count": 3,
   "metadata": {},
   "outputs": [
    {
     "name": "stdout",
     "output_type": "stream",
     "text": [
      "<class 'pandas.core.frame.DataFrame'>\n",
      "RangeIndex: 88889 entries, 0 to 88888\n",
      "Data columns (total 31 columns):\n",
      " #   Column                  Non-Null Count  Dtype  \n",
      "---  ------                  --------------  -----  \n",
      " 0   Event.Id                88889 non-null  object \n",
      " 1   Investigation.Type      88889 non-null  object \n",
      " 2   Accident.Number         88889 non-null  object \n",
      " 3   Event.Date              88889 non-null  object \n",
      " 4   Location                88837 non-null  object \n",
      " 5   Country                 88663 non-null  object \n",
      " 6   Latitude                34382 non-null  object \n",
      " 7   Longitude               34373 non-null  object \n",
      " 8   Airport.Code            50249 non-null  object \n",
      " 9   Airport.Name            52790 non-null  object \n",
      " 10  Injury.Severity         87889 non-null  object \n",
      " 11  Aircraft.damage         85695 non-null  object \n",
      " 12  Aircraft.Category       32287 non-null  object \n",
      " 13  Registration.Number     87572 non-null  object \n",
      " 14  Make                    88826 non-null  object \n",
      " 15  Model                   88797 non-null  object \n",
      " 16  Amateur.Built           88787 non-null  object \n",
      " 17  Number.of.Engines       82805 non-null  float64\n",
      " 18  Engine.Type             81812 non-null  object \n",
      " 19  FAR.Description         32023 non-null  object \n",
      " 20  Schedule                12582 non-null  object \n",
      " 21  Purpose.of.flight       82697 non-null  object \n",
      " 22  Air.carrier             16648 non-null  object \n",
      " 23  Total.Fatal.Injuries    77488 non-null  float64\n",
      " 24  Total.Serious.Injuries  76379 non-null  float64\n",
      " 25  Total.Minor.Injuries    76956 non-null  float64\n",
      " 26  Total.Uninjured         82977 non-null  float64\n",
      " 27  Weather.Condition       84397 non-null  object \n",
      " 28  Broad.phase.of.flight   61724 non-null  object \n",
      " 29  Report.Status           82508 non-null  object \n",
      " 30  Publication.Date        75118 non-null  object \n",
      "dtypes: float64(5), object(26)\n",
      "memory usage: 21.0+ MB\n"
     ]
    }
   ],
   "source": [
    "# What does the data structure look like\n",
    "df.info()"
   ]
  },
  {
   "cell_type": "code",
   "execution_count": 4,
   "metadata": {},
   "outputs": [],
   "source": [
    "# 30 columns, 88889 rows, 5 columns of number data type and the rest are string"
   ]
  },
  {
   "cell_type": "code",
   "execution_count": 5,
   "metadata": {
    "scrolled": false
   },
   "outputs": [
    {
     "data": {
      "text/plain": [
       "Event.Id                      0\n",
       "Investigation.Type            0\n",
       "Accident.Number               0\n",
       "Event.Date                    0\n",
       "Location                     52\n",
       "Make                         63\n",
       "Model                        92\n",
       "Amateur.Built               102\n",
       "Country                     226\n",
       "Injury.Severity            1000\n",
       "Registration.Number        1317\n",
       "Aircraft.damage            3194\n",
       "Weather.Condition          4492\n",
       "Total.Uninjured            5912\n",
       "Number.of.Engines          6084\n",
       "Purpose.of.flight          6192\n",
       "Report.Status              6381\n",
       "Engine.Type                7077\n",
       "Total.Fatal.Injuries      11401\n",
       "Total.Minor.Injuries      11933\n",
       "Total.Serious.Injuries    12510\n",
       "Publication.Date          13771\n",
       "Broad.phase.of.flight     27165\n",
       "Airport.Name              36099\n",
       "Airport.Code              38640\n",
       "Latitude                  54507\n",
       "Longitude                 54516\n",
       "Aircraft.Category         56602\n",
       "FAR.Description           56866\n",
       "Air.carrier               72241\n",
       "Schedule                  76307\n",
       "dtype: int64"
      ]
     },
     "execution_count": 5,
     "metadata": {},
     "output_type": "execute_result"
    }
   ],
   "source": [
    "#Looks like there is some missing data as well. Lets Check for NA\n",
    "df.isna().sum().sort_values()"
   ]
  },
  {
   "cell_type": "code",
   "execution_count": 6,
   "metadata": {},
   "outputs": [],
   "source": [
    "# There are quite a few columns with more than 30000 missing values - thats more than 30% of the data"
   ]
  },
  {
   "cell_type": "code",
   "execution_count": 7,
   "metadata": {},
   "outputs": [],
   "source": [
    "# I cant see all the columns so I am splitting the data"
   ]
  },
  {
   "cell_type": "code",
   "execution_count": 8,
   "metadata": {},
   "outputs": [
    {
     "data": {
      "text/html": [
       "<div>\n",
       "<style scoped>\n",
       "    .dataframe tbody tr th:only-of-type {\n",
       "        vertical-align: middle;\n",
       "    }\n",
       "\n",
       "    .dataframe tbody tr th {\n",
       "        vertical-align: top;\n",
       "    }\n",
       "\n",
       "    .dataframe thead th {\n",
       "        text-align: right;\n",
       "    }\n",
       "</style>\n",
       "<table border=\"1\" class=\"dataframe\">\n",
       "  <thead>\n",
       "    <tr style=\"text-align: right;\">\n",
       "      <th></th>\n",
       "      <th>Event.Id</th>\n",
       "      <th>Investigation.Type</th>\n",
       "      <th>Accident.Number</th>\n",
       "      <th>Event.Date</th>\n",
       "      <th>Location</th>\n",
       "      <th>Country</th>\n",
       "      <th>Latitude</th>\n",
       "      <th>Longitude</th>\n",
       "      <th>Airport.Code</th>\n",
       "      <th>Airport.Name</th>\n",
       "    </tr>\n",
       "  </thead>\n",
       "  <tbody>\n",
       "    <tr>\n",
       "      <th>0</th>\n",
       "      <td>20001218X45444</td>\n",
       "      <td>Accident</td>\n",
       "      <td>SEA87LA080</td>\n",
       "      <td>1948-10-24</td>\n",
       "      <td>MOOSE CREEK, ID</td>\n",
       "      <td>United States</td>\n",
       "      <td>NaN</td>\n",
       "      <td>NaN</td>\n",
       "      <td>NaN</td>\n",
       "      <td>NaN</td>\n",
       "    </tr>\n",
       "    <tr>\n",
       "      <th>1</th>\n",
       "      <td>20001218X45447</td>\n",
       "      <td>Accident</td>\n",
       "      <td>LAX94LA336</td>\n",
       "      <td>1962-07-19</td>\n",
       "      <td>BRIDGEPORT, CA</td>\n",
       "      <td>United States</td>\n",
       "      <td>NaN</td>\n",
       "      <td>NaN</td>\n",
       "      <td>NaN</td>\n",
       "      <td>NaN</td>\n",
       "    </tr>\n",
       "    <tr>\n",
       "      <th>2</th>\n",
       "      <td>20061025X01555</td>\n",
       "      <td>Accident</td>\n",
       "      <td>NYC07LA005</td>\n",
       "      <td>1974-08-30</td>\n",
       "      <td>Saltville, VA</td>\n",
       "      <td>United States</td>\n",
       "      <td>36.922223</td>\n",
       "      <td>-81.878056</td>\n",
       "      <td>NaN</td>\n",
       "      <td>NaN</td>\n",
       "    </tr>\n",
       "    <tr>\n",
       "      <th>3</th>\n",
       "      <td>20001218X45448</td>\n",
       "      <td>Accident</td>\n",
       "      <td>LAX96LA321</td>\n",
       "      <td>1977-06-19</td>\n",
       "      <td>EUREKA, CA</td>\n",
       "      <td>United States</td>\n",
       "      <td>NaN</td>\n",
       "      <td>NaN</td>\n",
       "      <td>NaN</td>\n",
       "      <td>NaN</td>\n",
       "    </tr>\n",
       "    <tr>\n",
       "      <th>4</th>\n",
       "      <td>20041105X01764</td>\n",
       "      <td>Accident</td>\n",
       "      <td>CHI79FA064</td>\n",
       "      <td>1979-08-02</td>\n",
       "      <td>Canton, OH</td>\n",
       "      <td>United States</td>\n",
       "      <td>NaN</td>\n",
       "      <td>NaN</td>\n",
       "      <td>NaN</td>\n",
       "      <td>NaN</td>\n",
       "    </tr>\n",
       "  </tbody>\n",
       "</table>\n",
       "</div>"
      ],
      "text/plain": [
       "         Event.Id Investigation.Type Accident.Number  Event.Date  \\\n",
       "0  20001218X45444           Accident      SEA87LA080  1948-10-24   \n",
       "1  20001218X45447           Accident      LAX94LA336  1962-07-19   \n",
       "2  20061025X01555           Accident      NYC07LA005  1974-08-30   \n",
       "3  20001218X45448           Accident      LAX96LA321  1977-06-19   \n",
       "4  20041105X01764           Accident      CHI79FA064  1979-08-02   \n",
       "\n",
       "          Location        Country   Latitude   Longitude Airport.Code  \\\n",
       "0  MOOSE CREEK, ID  United States        NaN         NaN          NaN   \n",
       "1   BRIDGEPORT, CA  United States        NaN         NaN          NaN   \n",
       "2    Saltville, VA  United States  36.922223  -81.878056          NaN   \n",
       "3       EUREKA, CA  United States        NaN         NaN          NaN   \n",
       "4       Canton, OH  United States        NaN         NaN          NaN   \n",
       "\n",
       "  Airport.Name  \n",
       "0          NaN  \n",
       "1          NaN  \n",
       "2          NaN  \n",
       "3          NaN  \n",
       "4          NaN  "
      ]
     },
     "execution_count": 8,
     "metadata": {},
     "output_type": "execute_result"
    }
   ],
   "source": [
    "df.iloc[list(range(0,5)),list(range(0,10))]"
   ]
  },
  {
   "cell_type": "code",
   "execution_count": 9,
   "metadata": {
    "scrolled": true
   },
   "outputs": [
    {
     "data": {
      "text/html": [
       "<div>\n",
       "<style scoped>\n",
       "    .dataframe tbody tr th:only-of-type {\n",
       "        vertical-align: middle;\n",
       "    }\n",
       "\n",
       "    .dataframe tbody tr th {\n",
       "        vertical-align: top;\n",
       "    }\n",
       "\n",
       "    .dataframe thead th {\n",
       "        text-align: right;\n",
       "    }\n",
       "</style>\n",
       "<table border=\"1\" class=\"dataframe\">\n",
       "  <thead>\n",
       "    <tr style=\"text-align: right;\">\n",
       "      <th></th>\n",
       "      <th>Injury.Severity</th>\n",
       "      <th>Aircraft.damage</th>\n",
       "      <th>Aircraft.Category</th>\n",
       "      <th>Registration.Number</th>\n",
       "      <th>Make</th>\n",
       "      <th>Model</th>\n",
       "      <th>Amateur.Built</th>\n",
       "      <th>Number.of.Engines</th>\n",
       "      <th>Engine.Type</th>\n",
       "      <th>FAR.Description</th>\n",
       "      <th>...</th>\n",
       "      <th>Purpose.of.flight</th>\n",
       "      <th>Air.carrier</th>\n",
       "      <th>Total.Fatal.Injuries</th>\n",
       "      <th>Total.Serious.Injuries</th>\n",
       "      <th>Total.Minor.Injuries</th>\n",
       "      <th>Total.Uninjured</th>\n",
       "      <th>Weather.Condition</th>\n",
       "      <th>Broad.phase.of.flight</th>\n",
       "      <th>Report.Status</th>\n",
       "      <th>Publication.Date</th>\n",
       "    </tr>\n",
       "  </thead>\n",
       "  <tbody>\n",
       "    <tr>\n",
       "      <th>0</th>\n",
       "      <td>Fatal(2)</td>\n",
       "      <td>Destroyed</td>\n",
       "      <td>NaN</td>\n",
       "      <td>NC6404</td>\n",
       "      <td>Stinson</td>\n",
       "      <td>108-3</td>\n",
       "      <td>No</td>\n",
       "      <td>1.0</td>\n",
       "      <td>Reciprocating</td>\n",
       "      <td>NaN</td>\n",
       "      <td>...</td>\n",
       "      <td>Personal</td>\n",
       "      <td>NaN</td>\n",
       "      <td>2.0</td>\n",
       "      <td>0.0</td>\n",
       "      <td>0.0</td>\n",
       "      <td>0.0</td>\n",
       "      <td>UNK</td>\n",
       "      <td>Cruise</td>\n",
       "      <td>Probable Cause</td>\n",
       "      <td>NaN</td>\n",
       "    </tr>\n",
       "    <tr>\n",
       "      <th>1</th>\n",
       "      <td>Fatal(4)</td>\n",
       "      <td>Destroyed</td>\n",
       "      <td>NaN</td>\n",
       "      <td>N5069P</td>\n",
       "      <td>Piper</td>\n",
       "      <td>PA24-180</td>\n",
       "      <td>No</td>\n",
       "      <td>1.0</td>\n",
       "      <td>Reciprocating</td>\n",
       "      <td>NaN</td>\n",
       "      <td>...</td>\n",
       "      <td>Personal</td>\n",
       "      <td>NaN</td>\n",
       "      <td>4.0</td>\n",
       "      <td>0.0</td>\n",
       "      <td>0.0</td>\n",
       "      <td>0.0</td>\n",
       "      <td>UNK</td>\n",
       "      <td>Unknown</td>\n",
       "      <td>Probable Cause</td>\n",
       "      <td>19-09-1996</td>\n",
       "    </tr>\n",
       "    <tr>\n",
       "      <th>2</th>\n",
       "      <td>Fatal(3)</td>\n",
       "      <td>Destroyed</td>\n",
       "      <td>NaN</td>\n",
       "      <td>N5142R</td>\n",
       "      <td>Cessna</td>\n",
       "      <td>172M</td>\n",
       "      <td>No</td>\n",
       "      <td>1.0</td>\n",
       "      <td>Reciprocating</td>\n",
       "      <td>NaN</td>\n",
       "      <td>...</td>\n",
       "      <td>Personal</td>\n",
       "      <td>NaN</td>\n",
       "      <td>3.0</td>\n",
       "      <td>NaN</td>\n",
       "      <td>NaN</td>\n",
       "      <td>NaN</td>\n",
       "      <td>IMC</td>\n",
       "      <td>Cruise</td>\n",
       "      <td>Probable Cause</td>\n",
       "      <td>26-02-2007</td>\n",
       "    </tr>\n",
       "    <tr>\n",
       "      <th>3</th>\n",
       "      <td>Fatal(2)</td>\n",
       "      <td>Destroyed</td>\n",
       "      <td>NaN</td>\n",
       "      <td>N1168J</td>\n",
       "      <td>Rockwell</td>\n",
       "      <td>112</td>\n",
       "      <td>No</td>\n",
       "      <td>1.0</td>\n",
       "      <td>Reciprocating</td>\n",
       "      <td>NaN</td>\n",
       "      <td>...</td>\n",
       "      <td>Personal</td>\n",
       "      <td>NaN</td>\n",
       "      <td>2.0</td>\n",
       "      <td>0.0</td>\n",
       "      <td>0.0</td>\n",
       "      <td>0.0</td>\n",
       "      <td>IMC</td>\n",
       "      <td>Cruise</td>\n",
       "      <td>Probable Cause</td>\n",
       "      <td>12-09-2000</td>\n",
       "    </tr>\n",
       "    <tr>\n",
       "      <th>4</th>\n",
       "      <td>Fatal(1)</td>\n",
       "      <td>Destroyed</td>\n",
       "      <td>NaN</td>\n",
       "      <td>N15NY</td>\n",
       "      <td>Cessna</td>\n",
       "      <td>501</td>\n",
       "      <td>No</td>\n",
       "      <td>NaN</td>\n",
       "      <td>NaN</td>\n",
       "      <td>NaN</td>\n",
       "      <td>...</td>\n",
       "      <td>Personal</td>\n",
       "      <td>NaN</td>\n",
       "      <td>1.0</td>\n",
       "      <td>2.0</td>\n",
       "      <td>NaN</td>\n",
       "      <td>0.0</td>\n",
       "      <td>VMC</td>\n",
       "      <td>Approach</td>\n",
       "      <td>Probable Cause</td>\n",
       "      <td>16-04-1980</td>\n",
       "    </tr>\n",
       "  </tbody>\n",
       "</table>\n",
       "<p>5 rows × 21 columns</p>\n",
       "</div>"
      ],
      "text/plain": [
       "  Injury.Severity Aircraft.damage Aircraft.Category Registration.Number  \\\n",
       "0        Fatal(2)       Destroyed               NaN              NC6404   \n",
       "1        Fatal(4)       Destroyed               NaN              N5069P   \n",
       "2        Fatal(3)       Destroyed               NaN              N5142R   \n",
       "3        Fatal(2)       Destroyed               NaN              N1168J   \n",
       "4        Fatal(1)       Destroyed               NaN               N15NY   \n",
       "\n",
       "       Make     Model Amateur.Built  Number.of.Engines    Engine.Type  \\\n",
       "0   Stinson     108-3            No                1.0  Reciprocating   \n",
       "1     Piper  PA24-180            No                1.0  Reciprocating   \n",
       "2    Cessna      172M            No                1.0  Reciprocating   \n",
       "3  Rockwell       112            No                1.0  Reciprocating   \n",
       "4    Cessna       501            No                NaN            NaN   \n",
       "\n",
       "  FAR.Description  ... Purpose.of.flight Air.carrier Total.Fatal.Injuries  \\\n",
       "0             NaN  ...          Personal         NaN                  2.0   \n",
       "1             NaN  ...          Personal         NaN                  4.0   \n",
       "2             NaN  ...          Personal         NaN                  3.0   \n",
       "3             NaN  ...          Personal         NaN                  2.0   \n",
       "4             NaN  ...          Personal         NaN                  1.0   \n",
       "\n",
       "   Total.Serious.Injuries  Total.Minor.Injuries  Total.Uninjured  \\\n",
       "0                     0.0                   0.0              0.0   \n",
       "1                     0.0                   0.0              0.0   \n",
       "2                     NaN                   NaN              NaN   \n",
       "3                     0.0                   0.0              0.0   \n",
       "4                     2.0                   NaN              0.0   \n",
       "\n",
       "   Weather.Condition Broad.phase.of.flight   Report.Status Publication.Date  \n",
       "0                UNK                Cruise  Probable Cause              NaN  \n",
       "1                UNK               Unknown  Probable Cause       19-09-1996  \n",
       "2                IMC                Cruise  Probable Cause       26-02-2007  \n",
       "3                IMC                Cruise  Probable Cause       12-09-2000  \n",
       "4                VMC              Approach  Probable Cause       16-04-1980  \n",
       "\n",
       "[5 rows x 21 columns]"
      ]
     },
     "execution_count": 9,
     "metadata": {},
     "output_type": "execute_result"
    }
   ],
   "source": [
    "df.iloc[list(range(0,5)),list(range(10,31))]"
   ]
  },
  {
   "cell_type": "code",
   "execution_count": 10,
   "metadata": {
    "scrolled": false
   },
   "outputs": [],
   "source": [
    "#What does the data look like in each column?\n"
   ]
  },
  {
   "cell_type": "code",
   "execution_count": 11,
   "metadata": {},
   "outputs": [
    {
     "data": {
      "text/plain": [
       "Cessna       22227\n",
       "Piper        12029\n",
       "CESSNA        4922\n",
       "Beech         4330\n",
       "PIPER         2841\n",
       "             ...  \n",
       "Crowder          1\n",
       "Herring          1\n",
       "Starnes          1\n",
       "VANDERARK        1\n",
       "CO Z             1\n",
       "Name: Make, Length: 8237, dtype: int64"
      ]
     },
     "execution_count": 11,
     "metadata": {},
     "output_type": "execute_result"
    }
   ],
   "source": [
    "# I am trying to understand what the data looks like here - particularly for the \"Make\" column\n",
    "df['Make'].value_counts()"
   ]
  },
  {
   "cell_type": "code",
   "execution_count": 12,
   "metadata": {},
   "outputs": [],
   "source": [
    "# Looks like there are duplicate values here that need to be consolidated together\n"
   ]
  },
  {
   "cell_type": "code",
   "execution_count": 13,
   "metadata": {},
   "outputs": [
    {
     "data": {
      "text/plain": [
       "152                    2367\n",
       "172                    1756\n",
       "172N                   1164\n",
       "PA-28-140               932\n",
       "150                     829\n",
       "                       ... \n",
       "PITTS-S-1D                1\n",
       "737-209                   1\n",
       "PITTS SPECIAL WSC-1       1\n",
       "BRIEGLEB BG-12B           1\n",
       "AEROCOMP CA6WB            1\n",
       "Name: Model, Length: 12318, dtype: int64"
      ]
     },
     "execution_count": 13,
     "metadata": {},
     "output_type": "execute_result"
    }
   ],
   "source": [
    "# I am looking at the Model column\n",
    "df['Model'].value_counts()"
   ]
  },
  {
   "cell_type": "code",
   "execution_count": 14,
   "metadata": {},
   "outputs": [
    {
     "data": {
      "text/plain": [
       "No     80312\n",
       "Yes     8475\n",
       "Name: Amateur.Built, dtype: int64"
      ]
     },
     "execution_count": 14,
     "metadata": {},
     "output_type": "execute_result"
    }
   ],
   "source": [
    "# I am looking at the Amaetur Built column\n",
    "df['Amateur.Built'].value_counts()"
   ]
  },
  {
   "cell_type": "code",
   "execution_count": 15,
   "metadata": {},
   "outputs": [
    {
     "data": {
      "text/plain": [
       "Accident    85015\n",
       "Incident     3874\n",
       "Name: Investigation.Type, dtype: int64"
      ]
     },
     "execution_count": 15,
     "metadata": {},
     "output_type": "execute_result"
    }
   ],
   "source": [
    "# I am looking at the Investigation Type column\n",
    "df['Investigation.Type'].value_counts()"
   ]
  },
  {
   "cell_type": "code",
   "execution_count": 16,
   "metadata": {},
   "outputs": [
    {
     "data": {
      "text/plain": [
       "Non-Fatal     67357\n",
       "Fatal(1)       6167\n",
       "Fatal          5262\n",
       "Fatal(2)       3711\n",
       "Incident       2219\n",
       "              ...  \n",
       "Fatal(141)        1\n",
       "Fatal(47)         1\n",
       "Fatal(229)        1\n",
       "Fatal(72)         1\n",
       "Fatal(96)         1\n",
       "Name: Injury.Severity, Length: 109, dtype: int64"
      ]
     },
     "execution_count": 16,
     "metadata": {},
     "output_type": "execute_result"
    }
   ],
   "source": [
    "# I am looking at the Injury Severity column\n",
    "df['Injury.Severity'].value_counts()"
   ]
  },
  {
   "cell_type": "code",
   "execution_count": 17,
   "metadata": {},
   "outputs": [],
   "source": [
    "# Looks like we need to remove the numbers from the Fatal injuries as we already have a column with number of fatalities"
   ]
  },
  {
   "cell_type": "code",
   "execution_count": 18,
   "metadata": {},
   "outputs": [
    {
     "data": {
      "text/plain": [
       "Substantial    64148\n",
       "Destroyed      18623\n",
       "Minor           2805\n",
       "Unknown          119\n",
       "Name: Aircraft.damage, dtype: int64"
      ]
     },
     "execution_count": 18,
     "metadata": {},
     "output_type": "execute_result"
    }
   ],
   "source": [
    "# I am looking at the Aircraft damage column\n",
    "df['Aircraft.damage'].value_counts()"
   ]
  },
  {
   "cell_type": "code",
   "execution_count": 19,
   "metadata": {},
   "outputs": [
    {
     "data": {
      "text/plain": [
       "Reciprocating      69530\n",
       "Turbo Shaft         3609\n",
       "Turbo Prop          3391\n",
       "Turbo Fan           2481\n",
       "Unknown             2051\n",
       "Turbo Jet            703\n",
       "None                  19\n",
       "Geared Turbofan       12\n",
       "Electric              10\n",
       "NONE                   2\n",
       "LR                     2\n",
       "UNK                    1\n",
       "Hybrid Rocket          1\n",
       "Name: Engine.Type, dtype: int64"
      ]
     },
     "execution_count": 19,
     "metadata": {},
     "output_type": "execute_result"
    }
   ],
   "source": [
    "# I am looking at the Engine Type column\n",
    "df['Engine.Type'].value_counts()"
   ]
  },
  {
   "cell_type": "code",
   "execution_count": 20,
   "metadata": {},
   "outputs": [],
   "source": [
    "# Probably have to group all the Turbo together into one category. Same applies to none and unknown"
   ]
  },
  {
   "cell_type": "code",
   "execution_count": 21,
   "metadata": {
    "scrolled": true
   },
   "outputs": [
    {
     "data": {
      "text/plain": [
       "Personal                     49448\n",
       "Instructional                10601\n",
       "Unknown                       6802\n",
       "Aerial Application            4712\n",
       "Business                      4018\n",
       "Positioning                   1646\n",
       "Other Work Use                1264\n",
       "Ferry                          812\n",
       "Aerial Observation             794\n",
       "Public Aircraft                720\n",
       "Executive/corporate            553\n",
       "Flight Test                    405\n",
       "Skydiving                      182\n",
       "External Load                  123\n",
       "Public Aircraft - Federal      105\n",
       "Banner Tow                     101\n",
       "Air Race show                   99\n",
       "Public Aircraft - Local         74\n",
       "Public Aircraft - State         64\n",
       "Air Race/show                   59\n",
       "Glider Tow                      53\n",
       "Firefighting                    40\n",
       "Air Drop                        11\n",
       "ASHO                             6\n",
       "PUBS                             4\n",
       "PUBL                             1\n",
       "Name: Purpose.of.flight, dtype: int64"
      ]
     },
     "execution_count": 21,
     "metadata": {},
     "output_type": "execute_result"
    }
   ],
   "source": [
    "# I am looking at the Purpose of flight column\n",
    "df['Purpose.of.flight'].value_counts()"
   ]
  },
  {
   "cell_type": "code",
   "execution_count": 22,
   "metadata": {},
   "outputs": [],
   "source": [
    "#Looks like we have to group together the categories here as well. For example Public Aircraft and Air race and show"
   ]
  },
  {
   "cell_type": "code",
   "execution_count": 23,
   "metadata": {
    "scrolled": true
   },
   "outputs": [
    {
     "data": {
      "text/plain": [
       "VMC    77303\n",
       "IMC     5976\n",
       "UNK      856\n",
       "Unk      262\n",
       "Name: Weather.Condition, dtype: int64"
      ]
     },
     "execution_count": 23,
     "metadata": {},
     "output_type": "execute_result"
    }
   ],
   "source": [
    "# I am looking at the Weather Condition column\n",
    "df['Weather.Condition'].value_counts()"
   ]
  },
  {
   "cell_type": "code",
   "execution_count": 24,
   "metadata": {},
   "outputs": [],
   "source": [
    "#Looks like there is a data duplication issue above. Need to group the Unknowns together"
   ]
  },
  {
   "cell_type": "code",
   "execution_count": 25,
   "metadata": {},
   "outputs": [
    {
     "data": {
      "text/plain": [
       "Landing        15428\n",
       "Takeoff        12493\n",
       "Cruise         10269\n",
       "Maneuvering     8144\n",
       "Approach        6546\n",
       "Climb           2034\n",
       "Taxi            1958\n",
       "Descent         1887\n",
       "Go-around       1353\n",
       "Standing         945\n",
       "Unknown          548\n",
       "Other            119\n",
       "Name: Broad.phase.of.flight, dtype: int64"
      ]
     },
     "execution_count": 25,
     "metadata": {},
     "output_type": "execute_result"
    }
   ],
   "source": [
    "# I am looking at the Broad phase of flight column\n",
    "df['Broad.phase.of.flight'].value_counts()"
   ]
  },
  {
   "cell_type": "code",
   "execution_count": 26,
   "metadata": {},
   "outputs": [
    {
     "data": {
      "text/plain": [
       "Probable Cause                                                                                                                                                              61754\n",
       "Foreign                                                                                                                                                                      1999\n",
       "<br /><br />                                                                                                                                                                  167\n",
       "Factual                                                                                                                                                                       145\n",
       "The pilot's failure to maintain directional control during the landing roll.                                                                                                   56\n",
       "                                                                                                                                                                            ...  \n",
       "The noninstrument-rated pilot's decision to depart into instrument meteorological conditions, and his subsequent loss of control due to spatial disorientation.                 1\n",
       "The failure of a landing gear O-ring, which prevented the pilot from being able to maintain directional control of the airplane during landing.\\r                               1\n",
       "The pilot did not maintain directional control of the airplane while landing with a gusting crosswind.                                                                          1\n",
       "The pilots exceedance of the airplanes structural limitations while conducting previous aerobatic maneuvers, which resulted in an in-flight breakup of the airplane.\\r        1\n",
       "A loss of airplane control for undetermined reasons.                                                                                                                            1\n",
       "Name: Report.Status, Length: 17075, dtype: int64"
      ]
     },
     "execution_count": 26,
     "metadata": {},
     "output_type": "execute_result"
    }
   ],
   "source": [
    "# I am looking at the Report Status column\n",
    "df['Report.Status'].value_counts()"
   ]
  },
  {
   "cell_type": "code",
   "execution_count": 27,
   "metadata": {},
   "outputs": [
    {
     "data": {
      "text/plain": [
       "Airplane             27617\n",
       "Helicopter            3440\n",
       "Glider                 508\n",
       "Balloon                231\n",
       "Gyrocraft              173\n",
       "Weight-Shift           161\n",
       "Powered Parachute       91\n",
       "Ultralight              30\n",
       "Unknown                 14\n",
       "WSFT                     9\n",
       "Powered-Lift             5\n",
       "Blimp                    4\n",
       "UNK                      2\n",
       "Rocket                   1\n",
       "ULTR                     1\n",
       "Name: Aircraft.Category, dtype: int64"
      ]
     },
     "execution_count": 27,
     "metadata": {},
     "output_type": "execute_result"
    }
   ],
   "source": [
    "# I am looking at the Aircraft Category column\n",
    "df['Aircraft.Category'].value_counts()"
   ]
  },
  {
   "cell_type": "code",
   "execution_count": 28,
   "metadata": {},
   "outputs": [
    {
     "data": {
      "text/plain": [
       "091                               18221\n",
       "Part 91: General Aviation          6486\n",
       "NUSN                               1584\n",
       "NUSC                               1013\n",
       "137                                1010\n",
       "135                                 746\n",
       "121                                 679\n",
       "Part 137: Agricultural              437\n",
       "UNK                                 371\n",
       "Part 135: Air Taxi & Commuter       298\n",
       "PUBU                                253\n",
       "129                                 246\n",
       "Part 121: Air Carrier               165\n",
       "133                                 107\n",
       "Part 129: Foreign                   100\n",
       "Non-U.S., Non-Commercial             97\n",
       "Non-U.S., Commercial                 93\n",
       "Part 133: Rotorcraft Ext. Load       32\n",
       "Unknown                              22\n",
       "Public Use                           19\n",
       "091K                                 14\n",
       "ARMF                                  8\n",
       "125                                   5\n",
       "Part 125: 20+ Pax,6000+ lbs           5\n",
       "107                                   4\n",
       "103                                   2\n",
       "Public Aircraft                       2\n",
       "Armed Forces                          1\n",
       "Part 91 Subpart K: Fractional         1\n",
       "Part 91F: Special Flt Ops.            1\n",
       "437                                   1\n",
       "Name: FAR.Description, dtype: int64"
      ]
     },
     "execution_count": 28,
     "metadata": {},
     "output_type": "execute_result"
    }
   ],
   "source": [
    "# I am looking at the FAR description column\n",
    "df['FAR.Description'].value_counts()"
   ]
  },
  {
   "cell_type": "code",
   "execution_count": 29,
   "metadata": {},
   "outputs": [
    {
     "data": {
      "text/html": [
       "<div>\n",
       "<style scoped>\n",
       "    .dataframe tbody tr th:only-of-type {\n",
       "        vertical-align: middle;\n",
       "    }\n",
       "\n",
       "    .dataframe tbody tr th {\n",
       "        vertical-align: top;\n",
       "    }\n",
       "\n",
       "    .dataframe thead th {\n",
       "        text-align: right;\n",
       "    }\n",
       "</style>\n",
       "<table border=\"1\" class=\"dataframe\">\n",
       "  <thead>\n",
       "    <tr style=\"text-align: right;\">\n",
       "      <th></th>\n",
       "      <th>Number.of.Engines</th>\n",
       "      <th>Total.Fatal.Injuries</th>\n",
       "      <th>Total.Serious.Injuries</th>\n",
       "      <th>Total.Minor.Injuries</th>\n",
       "      <th>Total.Uninjured</th>\n",
       "    </tr>\n",
       "  </thead>\n",
       "  <tbody>\n",
       "    <tr>\n",
       "      <th>count</th>\n",
       "      <td>82805.000000</td>\n",
       "      <td>77488.000000</td>\n",
       "      <td>76379.000000</td>\n",
       "      <td>76956.000000</td>\n",
       "      <td>82977.000000</td>\n",
       "    </tr>\n",
       "    <tr>\n",
       "      <th>mean</th>\n",
       "      <td>1.146585</td>\n",
       "      <td>0.647855</td>\n",
       "      <td>0.279881</td>\n",
       "      <td>0.357061</td>\n",
       "      <td>5.325440</td>\n",
       "    </tr>\n",
       "    <tr>\n",
       "      <th>std</th>\n",
       "      <td>0.446510</td>\n",
       "      <td>5.485960</td>\n",
       "      <td>1.544084</td>\n",
       "      <td>2.235625</td>\n",
       "      <td>27.913634</td>\n",
       "    </tr>\n",
       "    <tr>\n",
       "      <th>min</th>\n",
       "      <td>0.000000</td>\n",
       "      <td>0.000000</td>\n",
       "      <td>0.000000</td>\n",
       "      <td>0.000000</td>\n",
       "      <td>0.000000</td>\n",
       "    </tr>\n",
       "    <tr>\n",
       "      <th>25%</th>\n",
       "      <td>1.000000</td>\n",
       "      <td>0.000000</td>\n",
       "      <td>0.000000</td>\n",
       "      <td>0.000000</td>\n",
       "      <td>0.000000</td>\n",
       "    </tr>\n",
       "    <tr>\n",
       "      <th>50%</th>\n",
       "      <td>1.000000</td>\n",
       "      <td>0.000000</td>\n",
       "      <td>0.000000</td>\n",
       "      <td>0.000000</td>\n",
       "      <td>1.000000</td>\n",
       "    </tr>\n",
       "    <tr>\n",
       "      <th>75%</th>\n",
       "      <td>1.000000</td>\n",
       "      <td>0.000000</td>\n",
       "      <td>0.000000</td>\n",
       "      <td>0.000000</td>\n",
       "      <td>2.000000</td>\n",
       "    </tr>\n",
       "    <tr>\n",
       "      <th>max</th>\n",
       "      <td>8.000000</td>\n",
       "      <td>349.000000</td>\n",
       "      <td>161.000000</td>\n",
       "      <td>380.000000</td>\n",
       "      <td>699.000000</td>\n",
       "    </tr>\n",
       "  </tbody>\n",
       "</table>\n",
       "</div>"
      ],
      "text/plain": [
       "       Number.of.Engines  Total.Fatal.Injuries  Total.Serious.Injuries  \\\n",
       "count       82805.000000          77488.000000            76379.000000   \n",
       "mean            1.146585              0.647855                0.279881   \n",
       "std             0.446510              5.485960                1.544084   \n",
       "min             0.000000              0.000000                0.000000   \n",
       "25%             1.000000              0.000000                0.000000   \n",
       "50%             1.000000              0.000000                0.000000   \n",
       "75%             1.000000              0.000000                0.000000   \n",
       "max             8.000000            349.000000              161.000000   \n",
       "\n",
       "       Total.Minor.Injuries  Total.Uninjured  \n",
       "count          76956.000000     82977.000000  \n",
       "mean               0.357061         5.325440  \n",
       "std                2.235625        27.913634  \n",
       "min                0.000000         0.000000  \n",
       "25%                0.000000         0.000000  \n",
       "50%                0.000000         1.000000  \n",
       "75%                0.000000         2.000000  \n",
       "max              380.000000       699.000000  "
      ]
     },
     "execution_count": 29,
     "metadata": {},
     "output_type": "execute_result"
    }
   ],
   "source": [
    "#Here I am trying to understand the basic statistics of the quantitative columns\n",
    "df.describe()"
   ]
  },
  {
   "cell_type": "markdown",
   "metadata": {},
   "source": [
    "## Data Preparation"
   ]
  },
  {
   "cell_type": "markdown",
   "metadata": {},
   "source": [
    "Here is a brief summary of this section:\n",
    "    \n",
    "    1. I am removing 7 columns with over 30000 null values in each column as this is over 30% of the data points. Some columns had well over 50% null values. These columns did not add to understanding the safety of the airplanes either so, i removed them. Therefore this does not reduce quality of dataset \n",
    "    2. I am removing rows with null values. Any column that has 1000 rows or less with null values I removed those rows. Overall this came to ~1500 rows, so this did not reduce quality of data \n",
    "    3. In the Make column, makes are repeated because of the same name written in different cases and with additional information. I have fixed this by making all the cases uniform. I also applied a formula such that, for example, the make \"Cessna\", there were multiple instances where there would be a \"Cessna ABC\" and \"Cessna XYZ\". In such cases, I combined them into one make \"Cessna\" \n",
    "    4. The weather conditions column had the same issue as in the make column and this was fixed in the same way as above.\n",
    "    5. Date column was converted from string to date format\n",
    "    6. Injury Severity column had an issue where \"Fatal\" was repeating over again. This was fixed in the same way as above. "
   ]
  },
  {
   "cell_type": "code",
   "execution_count": 30,
   "metadata": {},
   "outputs": [
    {
     "name": "stdout",
     "output_type": "stream",
     "text": [
      "<class 'pandas.core.frame.DataFrame'>\n",
      "RangeIndex: 88889 entries, 0 to 88888\n",
      "Data columns (total 23 columns):\n",
      " #   Column                  Non-Null Count  Dtype  \n",
      "---  ------                  --------------  -----  \n",
      " 0   Event.Id                88889 non-null  object \n",
      " 1   Investigation.Type      88889 non-null  object \n",
      " 2   Accident.Number         88889 non-null  object \n",
      " 3   Event.Date              88889 non-null  object \n",
      " 4   Location                88837 non-null  object \n",
      " 5   Country                 88663 non-null  object \n",
      " 6   Injury.Severity         87889 non-null  object \n",
      " 7   Aircraft.damage         85695 non-null  object \n",
      " 8   Registration.Number     87572 non-null  object \n",
      " 9   Make                    88826 non-null  object \n",
      " 10  Model                   88797 non-null  object \n",
      " 11  Amateur.Built           88787 non-null  object \n",
      " 12  Number.of.Engines       82805 non-null  float64\n",
      " 13  Engine.Type             81812 non-null  object \n",
      " 14  Purpose.of.flight       82697 non-null  object \n",
      " 15  Total.Fatal.Injuries    77488 non-null  float64\n",
      " 16  Total.Serious.Injuries  76379 non-null  float64\n",
      " 17  Total.Minor.Injuries    76956 non-null  float64\n",
      " 18  Total.Uninjured         82977 non-null  float64\n",
      " 19  Weather.Condition       84397 non-null  object \n",
      " 20  Broad.phase.of.flight   61724 non-null  object \n",
      " 21  Report.Status           82508 non-null  object \n",
      " 22  Publication.Date        75118 non-null  object \n",
      "dtypes: float64(5), object(18)\n",
      "memory usage: 15.6+ MB\n"
     ]
    }
   ],
   "source": [
    "# Handle the missing values\n",
    "\n",
    "# Drop any column with over 30,000 missing values. AS that is over 30% of data points\n",
    "\n",
    "\n",
    "df.drop('Latitude', axis = 1, inplace = True)\n",
    "df.drop('Longitude', axis = 1, inplace = True)\n",
    "df.drop('Airport.Name', axis = 1, inplace = True)\n",
    "df.drop('Airport.Code', axis = 1, inplace = True)\n",
    "df.drop('Aircraft.Category', axis = 1, inplace = True)\n",
    "df.drop('FAR.Description', axis = 1, inplace = True)\n",
    "df.drop('Air.carrier', axis = 1, inplace = True)\n",
    "df.drop('Schedule', axis = 1, inplace = True)\n",
    "\n",
    "\n",
    "df.info()"
   ]
  },
  {
   "cell_type": "code",
   "execution_count": 31,
   "metadata": {},
   "outputs": [
    {
     "data": {
      "text/plain": [
       "Event.Id                      0\n",
       "Investigation.Type            0\n",
       "Accident.Number               0\n",
       "Event.Date                    0\n",
       "Location                     52\n",
       "Make                         63\n",
       "Model                        92\n",
       "Amateur.Built               102\n",
       "Country                     226\n",
       "Injury.Severity            1000\n",
       "Registration.Number        1317\n",
       "Aircraft.damage            3194\n",
       "Weather.Condition          4492\n",
       "Total.Uninjured            5912\n",
       "Number.of.Engines          6084\n",
       "Purpose.of.flight          6192\n",
       "Report.Status              6381\n",
       "Engine.Type                7077\n",
       "Total.Fatal.Injuries      11401\n",
       "Total.Minor.Injuries      11933\n",
       "Total.Serious.Injuries    12510\n",
       "Publication.Date          13771\n",
       "Broad.phase.of.flight     27165\n",
       "dtype: int64"
      ]
     },
     "execution_count": 31,
     "metadata": {},
     "output_type": "execute_result"
    }
   ],
   "source": [
    "# See the null values after dropping the columns. \n",
    "df.isna().sum().sort_values()"
   ]
  },
  {
   "cell_type": "code",
   "execution_count": 32,
   "metadata": {},
   "outputs": [
    {
     "data": {
      "text/plain": [
       "Event.Id                      0\n",
       "Model                         0\n",
       "Injury.Severity               0\n",
       "Country                       0\n",
       "Amateur.Built                 0\n",
       "Event.Date                    0\n",
       "Accident.Number               0\n",
       "Investigation.Type            0\n",
       "Location                      0\n",
       "Make                         18\n",
       "Registration.Number        1182\n",
       "Aircraft.damage            2641\n",
       "Weather.Condition          3482\n",
       "Purpose.of.flight          5134\n",
       "Number.of.Engines          5218\n",
       "Report.Status              5444\n",
       "Total.Uninjured            5819\n",
       "Engine.Type                6143\n",
       "Total.Fatal.Injuries      11302\n",
       "Total.Minor.Injuries      11803\n",
       "Total.Serious.Injuries    12384\n",
       "Publication.Date          13416\n",
       "Broad.phase.of.flight     25999\n",
       "dtype: int64"
      ]
     },
     "execution_count": 32,
     "metadata": {},
     "output_type": "execute_result"
    }
   ],
   "source": [
    "# Remove rows with missing data if there is less than 1000 rows. 1000 rows are 1% of data - \n",
    "# so it shouldnt affect the quality of the data\n",
    "\n",
    "df = df[~df['Location'].isnull()]\n",
    "df = df[~df['Model'].isnull()]\n",
    "df = df[~df['Amateur.Built'].isnull()]\n",
    "df = df[~df['Country'].isnull()]\n",
    "df = df[~df['Injury.Severity'].isnull()]\n",
    "\n",
    "df.isna().sum().sort_values()\n",
    "\n",
    "#We have removed ~1500 rows - this shouldnt affect quality of data. Here we see the impact of removing the rows"
   ]
  },
  {
   "cell_type": "code",
   "execution_count": 33,
   "metadata": {},
   "outputs": [
    {
     "data": {
      "text/plain": [
       "Cessna              27055\n",
       "Piper               14874\n",
       "Beech                5427\n",
       "Bell                 3796\n",
       "Boeing               2302\n",
       "                    ...  \n",
       "Masselink               1\n",
       "Therrien roger          1\n",
       "Defelici                1\n",
       "Brecher rotorway        1\n",
       "Robert h. low           1\n",
       "Name: Make, Length: 7347, dtype: int64"
      ]
     },
     "execution_count": 33,
     "metadata": {},
     "output_type": "execute_result"
    }
   ],
   "source": [
    "# Fix the make column. \n",
    "#Try to group together all the different names of the same brand into one name. \n",
    "\n",
    "# First get everything into a uniform format\n",
    "df['Make']= df['Make'].apply(lambda x: str(x).capitalize())\n",
    "\n",
    "# Now all the names are in a uniform format but still there are duplicates because of the repetition of the names.\n",
    "# For example Piper A, Piper B appear in two rows but they are both Piper make and should be consolidated. \n",
    "# So to do that we need to create a list of names and bucket them accordingly\n",
    "\n",
    "#Here is the list\n",
    "Makelist = ['Learjet','Dassault', 'Gulfstream','Cessna','Piper','Beech',\n",
    "            'Boeing','Bell','Mooney','Robinson','Grumman','Mitsubishi','Sikorsky','Israel','Aerospatiale','Swearingen','Rockwell']\n",
    "\n",
    "#Now we say if the row contains any of the above words make that word the \"Make\"\n",
    "for make in Makelist:\n",
    "    df['Make'] = df['Make'].apply(lambda x: make if str(make).upper() in str(x).upper() else x)\n",
    "\n",
    "# Now lets check the impact\n",
    "df['Make'].value_counts()\n"
   ]
  },
  {
   "cell_type": "code",
   "execution_count": 34,
   "metadata": {},
   "outputs": [
    {
     "data": {
      "text/plain": [
       "VMC    76960\n",
       "IMC     5942\n",
       "NAN     3482\n",
       "UNK     1061\n",
       "Name: Weather.Condition, dtype: int64"
      ]
     },
     "execution_count": 34,
     "metadata": {},
     "output_type": "execute_result"
    }
   ],
   "source": [
    "# Fix Weather Conditions\n",
    "\n",
    "# We had an UNK category and an Unk category. Both are the same so we need to group them together. \n",
    "\n",
    "#This is how we group them. Make them all one uniform case.\n",
    "df['Weather.Condition']= df['Weather.Condition'].apply(lambda x: str(x).upper())\n",
    "\n",
    "#Check the results\n",
    "df['Weather.Condition'].value_counts()\n"
   ]
  },
  {
   "cell_type": "code",
   "execution_count": 35,
   "metadata": {},
   "outputs": [
    {
     "data": {
      "text/plain": [
       "Personal               49326\n",
       "Instructional          10575\n",
       "Unknown                 6650\n",
       "Aerial Application      4709\n",
       "Business                3996\n",
       "Positioning             1626\n",
       "Other Work Use          1259\n",
       "Public Aircraft          958\n",
       "Ferry                    804\n",
       "Aerial Observation       784\n",
       "Executive/corporate      546\n",
       "Flight Test              399\n",
       "Skydiving                182\n",
       "Air Race show            158\n",
       "External Load            123\n",
       "Banner Tow               101\n",
       "Glider Tow                53\n",
       "Firefighting              40\n",
       "Air Drop                  11\n",
       "ASHO                       6\n",
       "PUBS                       4\n",
       "PUBL                       1\n",
       "Name: Purpose.of.flight, dtype: int64"
      ]
     },
     "execution_count": 35,
     "metadata": {},
     "output_type": "execute_result"
    }
   ],
   "source": [
    "#Fix Purpose of Flight\n",
    "\n",
    "#There are duplicates - \n",
    "\n",
    "#Air race show comes up as Air Race/show as well. So need to combine this\n",
    "df['Purpose.of.flight'] = df['Purpose.of.flight'].apply(lambda x: 'Air Race show' if x == 'Air Race/show' else x)\n",
    "\n",
    "#Public Aircraft is split up into multiple categories - need to combine them into one category Public Aircraft\n",
    "df['Purpose.of.flight'] = df['Purpose.of.flight'].apply(lambda x: 'Public Aircraft' if (x == 'Public Aircraft - Federal') else x)\n",
    "\n",
    "#Doing same as above\n",
    "df['Purpose.of.flight'] = df['Purpose.of.flight'].apply(lambda x: 'Public Aircraft' if (x == 'Public Aircraft - Local') else x)\n",
    "\n",
    "#Doing same as above\n",
    "df['Purpose.of.flight'] = df['Purpose.of.flight'].apply(lambda x: 'Public Aircraft' if (x == 'Public Aircraft - State') else x)\n",
    "\n",
    "#Check Results\n",
    "df['Purpose.of.flight'].value_counts()"
   ]
  },
  {
   "cell_type": "code",
   "execution_count": 36,
   "metadata": {},
   "outputs": [
    {
     "name": "stdout",
     "output_type": "stream",
     "text": [
      "<class 'pandas.core.frame.DataFrame'>\n",
      "Int64Index: 87445 entries, 0 to 88888\n",
      "Data columns (total 23 columns):\n",
      " #   Column                  Non-Null Count  Dtype         \n",
      "---  ------                  --------------  -----         \n",
      " 0   Event.Id                87445 non-null  object        \n",
      " 1   Investigation.Type      87445 non-null  object        \n",
      " 2   Accident.Number         87445 non-null  object        \n",
      " 3   Event.Date              87445 non-null  datetime64[ns]\n",
      " 4   Location                87445 non-null  object        \n",
      " 5   Country                 87445 non-null  object        \n",
      " 6   Injury.Severity         87445 non-null  object        \n",
      " 7   Aircraft.damage         84804 non-null  object        \n",
      " 8   Registration.Number     86263 non-null  object        \n",
      " 9   Make                    87445 non-null  object        \n",
      " 10  Model                   87445 non-null  object        \n",
      " 11  Amateur.Built           87445 non-null  object        \n",
      " 12  Number.of.Engines       82227 non-null  float64       \n",
      " 13  Engine.Type             81302 non-null  object        \n",
      " 14  Purpose.of.flight       82311 non-null  object        \n",
      " 15  Total.Fatal.Injuries    76143 non-null  float64       \n",
      " 16  Total.Serious.Injuries  75061 non-null  float64       \n",
      " 17  Total.Minor.Injuries    75642 non-null  float64       \n",
      " 18  Total.Uninjured         81626 non-null  float64       \n",
      " 19  Weather.Condition       87445 non-null  object        \n",
      " 20  Broad.phase.of.flight   61446 non-null  object        \n",
      " 21  Report.Status           82001 non-null  object        \n",
      " 22  Publication.Date        74029 non-null  object        \n",
      "dtypes: datetime64[ns](1), float64(5), object(17)\n",
      "memory usage: 16.0+ MB\n"
     ]
    },
    {
     "data": {
      "text/html": [
       "<div>\n",
       "<style scoped>\n",
       "    .dataframe tbody tr th:only-of-type {\n",
       "        vertical-align: middle;\n",
       "    }\n",
       "\n",
       "    .dataframe tbody tr th {\n",
       "        vertical-align: top;\n",
       "    }\n",
       "\n",
       "    .dataframe thead th {\n",
       "        text-align: right;\n",
       "    }\n",
       "</style>\n",
       "<table border=\"1\" class=\"dataframe\">\n",
       "  <thead>\n",
       "    <tr style=\"text-align: right;\">\n",
       "      <th></th>\n",
       "      <th>Event.Id</th>\n",
       "      <th>Investigation.Type</th>\n",
       "      <th>Accident.Number</th>\n",
       "      <th>Event.Date</th>\n",
       "      <th>Location</th>\n",
       "      <th>Country</th>\n",
       "      <th>Injury.Severity</th>\n",
       "      <th>Aircraft.damage</th>\n",
       "      <th>Registration.Number</th>\n",
       "      <th>Make</th>\n",
       "      <th>...</th>\n",
       "      <th>Engine.Type</th>\n",
       "      <th>Purpose.of.flight</th>\n",
       "      <th>Total.Fatal.Injuries</th>\n",
       "      <th>Total.Serious.Injuries</th>\n",
       "      <th>Total.Minor.Injuries</th>\n",
       "      <th>Total.Uninjured</th>\n",
       "      <th>Weather.Condition</th>\n",
       "      <th>Broad.phase.of.flight</th>\n",
       "      <th>Report.Status</th>\n",
       "      <th>Publication.Date</th>\n",
       "    </tr>\n",
       "  </thead>\n",
       "  <tbody>\n",
       "    <tr>\n",
       "      <th>0</th>\n",
       "      <td>20001218X45444</td>\n",
       "      <td>Accident</td>\n",
       "      <td>SEA87LA080</td>\n",
       "      <td>1948-10-24</td>\n",
       "      <td>MOOSE CREEK, ID</td>\n",
       "      <td>United States</td>\n",
       "      <td>Fatal(2)</td>\n",
       "      <td>Destroyed</td>\n",
       "      <td>NC6404</td>\n",
       "      <td>Stinson</td>\n",
       "      <td>...</td>\n",
       "      <td>Reciprocating</td>\n",
       "      <td>Personal</td>\n",
       "      <td>2.0</td>\n",
       "      <td>0.0</td>\n",
       "      <td>0.0</td>\n",
       "      <td>0.0</td>\n",
       "      <td>UNK</td>\n",
       "      <td>Cruise</td>\n",
       "      <td>Probable Cause</td>\n",
       "      <td>NaN</td>\n",
       "    </tr>\n",
       "    <tr>\n",
       "      <th>1</th>\n",
       "      <td>20001218X45447</td>\n",
       "      <td>Accident</td>\n",
       "      <td>LAX94LA336</td>\n",
       "      <td>1962-07-19</td>\n",
       "      <td>BRIDGEPORT, CA</td>\n",
       "      <td>United States</td>\n",
       "      <td>Fatal(4)</td>\n",
       "      <td>Destroyed</td>\n",
       "      <td>N5069P</td>\n",
       "      <td>Piper</td>\n",
       "      <td>...</td>\n",
       "      <td>Reciprocating</td>\n",
       "      <td>Personal</td>\n",
       "      <td>4.0</td>\n",
       "      <td>0.0</td>\n",
       "      <td>0.0</td>\n",
       "      <td>0.0</td>\n",
       "      <td>UNK</td>\n",
       "      <td>Unknown</td>\n",
       "      <td>Probable Cause</td>\n",
       "      <td>19-09-1996</td>\n",
       "    </tr>\n",
       "    <tr>\n",
       "      <th>2</th>\n",
       "      <td>20061025X01555</td>\n",
       "      <td>Accident</td>\n",
       "      <td>NYC07LA005</td>\n",
       "      <td>1974-08-30</td>\n",
       "      <td>Saltville, VA</td>\n",
       "      <td>United States</td>\n",
       "      <td>Fatal(3)</td>\n",
       "      <td>Destroyed</td>\n",
       "      <td>N5142R</td>\n",
       "      <td>Cessna</td>\n",
       "      <td>...</td>\n",
       "      <td>Reciprocating</td>\n",
       "      <td>Personal</td>\n",
       "      <td>3.0</td>\n",
       "      <td>NaN</td>\n",
       "      <td>NaN</td>\n",
       "      <td>NaN</td>\n",
       "      <td>IMC</td>\n",
       "      <td>Cruise</td>\n",
       "      <td>Probable Cause</td>\n",
       "      <td>26-02-2007</td>\n",
       "    </tr>\n",
       "    <tr>\n",
       "      <th>3</th>\n",
       "      <td>20001218X45448</td>\n",
       "      <td>Accident</td>\n",
       "      <td>LAX96LA321</td>\n",
       "      <td>1977-06-19</td>\n",
       "      <td>EUREKA, CA</td>\n",
       "      <td>United States</td>\n",
       "      <td>Fatal(2)</td>\n",
       "      <td>Destroyed</td>\n",
       "      <td>N1168J</td>\n",
       "      <td>Rockwell</td>\n",
       "      <td>...</td>\n",
       "      <td>Reciprocating</td>\n",
       "      <td>Personal</td>\n",
       "      <td>2.0</td>\n",
       "      <td>0.0</td>\n",
       "      <td>0.0</td>\n",
       "      <td>0.0</td>\n",
       "      <td>IMC</td>\n",
       "      <td>Cruise</td>\n",
       "      <td>Probable Cause</td>\n",
       "      <td>12-09-2000</td>\n",
       "    </tr>\n",
       "    <tr>\n",
       "      <th>4</th>\n",
       "      <td>20041105X01764</td>\n",
       "      <td>Accident</td>\n",
       "      <td>CHI79FA064</td>\n",
       "      <td>1979-08-02</td>\n",
       "      <td>Canton, OH</td>\n",
       "      <td>United States</td>\n",
       "      <td>Fatal(1)</td>\n",
       "      <td>Destroyed</td>\n",
       "      <td>N15NY</td>\n",
       "      <td>Cessna</td>\n",
       "      <td>...</td>\n",
       "      <td>NaN</td>\n",
       "      <td>Personal</td>\n",
       "      <td>1.0</td>\n",
       "      <td>2.0</td>\n",
       "      <td>NaN</td>\n",
       "      <td>0.0</td>\n",
       "      <td>VMC</td>\n",
       "      <td>Approach</td>\n",
       "      <td>Probable Cause</td>\n",
       "      <td>16-04-1980</td>\n",
       "    </tr>\n",
       "  </tbody>\n",
       "</table>\n",
       "<p>5 rows × 23 columns</p>\n",
       "</div>"
      ],
      "text/plain": [
       "         Event.Id Investigation.Type Accident.Number Event.Date  \\\n",
       "0  20001218X45444           Accident      SEA87LA080 1948-10-24   \n",
       "1  20001218X45447           Accident      LAX94LA336 1962-07-19   \n",
       "2  20061025X01555           Accident      NYC07LA005 1974-08-30   \n",
       "3  20001218X45448           Accident      LAX96LA321 1977-06-19   \n",
       "4  20041105X01764           Accident      CHI79FA064 1979-08-02   \n",
       "\n",
       "          Location        Country Injury.Severity Aircraft.damage  \\\n",
       "0  MOOSE CREEK, ID  United States        Fatal(2)       Destroyed   \n",
       "1   BRIDGEPORT, CA  United States        Fatal(4)       Destroyed   \n",
       "2    Saltville, VA  United States        Fatal(3)       Destroyed   \n",
       "3       EUREKA, CA  United States        Fatal(2)       Destroyed   \n",
       "4       Canton, OH  United States        Fatal(1)       Destroyed   \n",
       "\n",
       "  Registration.Number      Make  ...    Engine.Type Purpose.of.flight  \\\n",
       "0              NC6404   Stinson  ...  Reciprocating          Personal   \n",
       "1              N5069P     Piper  ...  Reciprocating          Personal   \n",
       "2              N5142R    Cessna  ...  Reciprocating          Personal   \n",
       "3              N1168J  Rockwell  ...  Reciprocating          Personal   \n",
       "4               N15NY    Cessna  ...            NaN          Personal   \n",
       "\n",
       "   Total.Fatal.Injuries Total.Serious.Injuries Total.Minor.Injuries  \\\n",
       "0                   2.0                    0.0                  0.0   \n",
       "1                   4.0                    0.0                  0.0   \n",
       "2                   3.0                    NaN                  NaN   \n",
       "3                   2.0                    0.0                  0.0   \n",
       "4                   1.0                    2.0                  NaN   \n",
       "\n",
       "   Total.Uninjured  Weather.Condition  Broad.phase.of.flight   Report.Status  \\\n",
       "0              0.0                UNK                 Cruise  Probable Cause   \n",
       "1              0.0                UNK                Unknown  Probable Cause   \n",
       "2              NaN                IMC                 Cruise  Probable Cause   \n",
       "3              0.0                IMC                 Cruise  Probable Cause   \n",
       "4              0.0                VMC               Approach  Probable Cause   \n",
       "\n",
       "  Publication.Date  \n",
       "0              NaN  \n",
       "1       19-09-1996  \n",
       "2       26-02-2007  \n",
       "3       12-09-2000  \n",
       "4       16-04-1980  \n",
       "\n",
       "[5 rows x 23 columns]"
      ]
     },
     "execution_count": 36,
     "metadata": {},
     "output_type": "execute_result"
    }
   ],
   "source": [
    "# Date is in string format - it needs to be converted into date format\n",
    "df['Event.Date'] = pd.to_datetime(df['Event.Date'])\n",
    "df.info()\n",
    "df.head()"
   ]
  },
  {
   "cell_type": "code",
   "execution_count": 37,
   "metadata": {},
   "outputs": [],
   "source": [
    "# Create a Year Column\n",
    "df['Year'] = df['Event.Date'].dt.year\n"
   ]
  },
  {
   "cell_type": "code",
   "execution_count": 38,
   "metadata": {},
   "outputs": [
    {
     "data": {
      "text/plain": [
       "Non-Fatal      67138\n",
       "Fatal          17691\n",
       "Incident        2143\n",
       "Minor            218\n",
       "Serious          173\n",
       "Unavailable       82\n",
       "Name: Injury.Severity, dtype: int64"
      ]
     },
     "execution_count": 38,
     "metadata": {},
     "output_type": "execute_result"
    }
   ],
   "source": [
    "# Need to fix Injury.Severity Column. Group all the 'Fatal' together \n",
    "df['Injury.Severity'] = df['Injury.Severity'].apply(lambda x: 'Fatal' if str(x)[0]=='F' else x)\n",
    "df['Injury.Severity'].value_counts()"
   ]
  },
  {
   "cell_type": "markdown",
   "metadata": {},
   "source": [
    "# Exploratory Data Analysis"
   ]
  },
  {
   "cell_type": "markdown",
   "metadata": {},
   "source": [
    "Through the process of data analysis I explored:\n",
    "        \n",
    "        a. The number of Fatalities by Purpose of travel, type of engine, weather conditions, phase of flight \n",
    "        b. The historical trend of number of fatalities injuries each year\n",
    "        c. The Under/Over representation of Makes to the Total Fatalities\n",
    " \n",
    "Based on the analysis above, I have reached conclusions and recommendations which have been mentioned below after the data analysis section"
   ]
  },
  {
   "cell_type": "code",
   "execution_count": 39,
   "metadata": {},
   "outputs": [
    {
     "data": {
      "text/plain": [
       "Cessna      0.309394\n",
       "Piper       0.170095\n",
       "Beech       0.062062\n",
       "Bell        0.043410\n",
       "Boeing      0.026325\n",
       "Robinson    0.018983\n",
       "Grumman     0.018789\n",
       "Mooney      0.015770\n",
       "Hughes      0.010601\n",
       "Name: Make, dtype: float64"
      ]
     },
     "execution_count": 39,
     "metadata": {},
     "output_type": "execute_result"
    }
   ],
   "source": [
    "#Total Fatal Injuries by Make\n",
    "x = df['Make'].value_counts(normalize=True)\n",
    "#Get the most important makes that cover 99% of the data\n",
    "x[x>0.01]"
   ]
  },
  {
   "cell_type": "code",
   "execution_count": 40,
   "metadata": {},
   "outputs": [
    {
     "data": {
      "text/plain": [
       "<AxesSubplot:title={'center':'Total Fatalities by Purpose of travel'}, xlabel='Purpose of flight', ylabel='Total Fatalities'>"
      ]
     },
     "execution_count": 40,
     "metadata": {},
     "output_type": "execute_result"
    },
    {
     "data": {
      "image/png": "[encoded data removed]",
      "text/plain": [
       "<Figure size 432x288 with 1 Axes>"
      ]
     },
     "metadata": {
      "needs_background": "light"
     },
     "output_type": "display_data"
    }
   ],
   "source": [
    "#Fatal Injuries by Purpose of travel\n",
    "df.groupby('Purpose.of.flight')['Total.Fatal.Injuries'].sum().sort_values(ascending=False).plot(kind='bar', xlabel = 'Purpose of flight', ylabel = 'Total Fatalities', title = \"Total Fatalities by Purpose of travel\")\n",
    "                                                                         "
   ]
  },
  {
   "cell_type": "code",
   "execution_count": 41,
   "metadata": {},
   "outputs": [
    {
     "data": {
      "text/plain": [
       "<AxesSubplot:title={'center':'Total Fatalities by Engine Type'}, xlabel='Engine Type', ylabel='Total Fatalities'>"
      ]
     },
     "execution_count": 41,
     "metadata": {},
     "output_type": "execute_result"
    },
    {
     "data": {
      "image/png": "[encoded data removed]",
      "text/plain": [
       "<Figure size 432x288 with 1 Axes>"
      ]
     },
     "metadata": {
      "needs_background": "light"
     },
     "output_type": "display_data"
    }
   ],
   "source": [
    "#Total Fatal Injuries by Engine Type\n",
    "df.groupby('Engine.Type')['Total.Fatal.Injuries'].sum().sort_values(ascending=False).plot(kind='bar', xlabel = 'Engine Type', ylabel = 'Total Fatalities', title = 'Total Fatalities by Engine Type')"
   ]
  },
  {
   "cell_type": "code",
   "execution_count": 43,
   "metadata": {
    "scrolled": true
   },
   "outputs": [
    {
     "data": {
      "text/plain": [
       "Cessna          0.274725\n",
       "Beech           0.142857\n",
       "Piper           0.120879\n",
       "Bell            0.064103\n",
       "Learjet         0.040293\n",
       "Dassault        0.034799\n",
       "Gulfstream      0.031136\n",
       "Mitsubishi      0.029304\n",
       "Sikorsky        0.027473\n",
       "Israel          0.020147\n",
       "Rockwell        0.016484\n",
       "Swearingen      0.016484\n",
       "Aerospatiale    0.014652\n",
       "Name: Make, dtype: float64"
      ]
     },
     "execution_count": 43,
     "metadata": {},
     "output_type": "execute_result"
    }
   ],
   "source": [
    "# I am more interested in accidents for corporate/executive purpose flights. \n",
    "#I want to capture 99% of the data as there are a lot of makes that arent very significant\n",
    "execdf = df[df['Purpose.of.flight']=='Executive/corporate']\n",
    "x = execdf['Make'].value_counts(normalize=True)\n",
    "#Here is 99% of the data\n",
    "x[x>0.01]\n",
    "\n",
    "\n",
    "\n"
   ]
  },
  {
   "cell_type": "code",
   "execution_count": 44,
   "metadata": {},
   "outputs": [],
   "source": [
    "#Make a list of the 99% of the Makes\n",
    "execmakelist = ['Learjet','Dassault', 'Gulfstream','Cessna','Piper','Beech',\n",
    "            'Bell','Mitsubishi','Sikorsky','Israel','Aerospatiale','Swearingen','Rockwell']"
   ]
  },
  {
   "cell_type": "code",
   "execution_count": 45,
   "metadata": {
    "scrolled": true
   },
   "outputs": [
    {
     "data": {
      "text/plain": [
       "<AxesSubplot:title={'center':'Total Fatalities by Make - Executive Travel'}, xlabel='Make', ylabel='Total Fatalities'>"
      ]
     },
     "execution_count": 45,
     "metadata": {},
     "output_type": "execute_result"
    },
    {
     "data": {
      "image/png": "[encoded data removed]",
      "text/plain": [
       "<Figure size 432x288 with 1 Axes>"
      ]
     },
     "metadata": {
      "needs_background": "light"
     },
     "output_type": "display_data"
    }
   ],
   "source": [
    "#So I am going to create a subset of data that has only those makes above. So I will create multiple sub datasets and combine them together\n",
    "execdf1 = execdf[(execdf['Make']=='Cessna')|(execdf['Make']=='Beech')]\n",
    "execdf2 = execdf[(execdf['Make']=='Piper')|(execdf['Make']=='Bell')]\n",
    "execdf3 = execdf[(execdf['Make']=='Learjet')|(execdf['Make']=='Gulfstream')]\n",
    "execdf4 = execdf[(execdf['Make']=='Dassault')|(execdf['Make']=='Mitsubishi')]\n",
    "execdf5 = execdf[(execdf['Make']=='Sikorsky')|(execdf['Make']=='Aerospatiale')]\n",
    "execdf6 = execdf[(execdf['Make']=='Swearingen')|(execdf['Make']=='Israel aircraft industries')]\n",
    "execdf7 = execdf[(execdf['Make']=='Rockwell')]\n",
    "\n",
    "#Now to combine these sub data sets into one that has 99% of the data for executive travel only\n",
    "execdfc = pd.concat([execdf1,execdf2,execdf3,execdf4,execdf5,execdf6,execdf7])\n",
    "execdfc.groupby('Make')['Total.Fatal.Injuries'].sum().sort_values(ascending=True).plot(kind='bar', xlabel = \"Make\", ylabel = \"Total Fatalities\", title = 'Total Fatalities by Make - Executive Travel')"
   ]
  },
  {
   "cell_type": "code",
   "execution_count": 46,
   "metadata": {},
   "outputs": [
    {
     "data": {
      "text/plain": [
       "Cessna          0.337838\n",
       "Beech           0.175676\n",
       "Piper           0.148649\n",
       "Bell            0.078829\n",
       "Learjet         0.049550\n",
       "Dassault        0.042793\n",
       "Gulfstream      0.038288\n",
       "Mitsubishi      0.036036\n",
       "Sikorsky        0.033784\n",
       "Swearingen      0.020270\n",
       "Rockwell        0.020270\n",
       "Aerospatiale    0.018018\n",
       "Name: Make, dtype: float64"
      ]
     },
     "execution_count": 46,
     "metadata": {},
     "output_type": "execute_result"
    }
   ],
   "source": [
    "# Proportion of Make among Executive Travel\n",
    "execdfc['Make'].value_counts(normalize=True).sort_values(ascending=False)"
   ]
  },
  {
   "cell_type": "code",
   "execution_count": 47,
   "metadata": {
    "scrolled": true
   },
   "outputs": [
    {
     "data": {
      "text/plain": [
       "Make\n",
       "Cessna          0.430862\n",
       "Beech           0.184369\n",
       "Piper           0.108216\n",
       "Bell            0.102204\n",
       "Mitsubishi      0.056112\n",
       "Learjet         0.044088\n",
       "Gulfstream      0.034068\n",
       "Rockwell        0.012024\n",
       "Dassault        0.012024\n",
       "Swearingen      0.008016\n",
       "Sikorsky        0.004008\n",
       "Aerospatiale    0.004008\n",
       "Name: Total.Fatal.Injuries, dtype: float64"
      ]
     },
     "execution_count": 47,
     "metadata": {},
     "output_type": "execute_result"
    }
   ],
   "source": [
    "#Total Fatal Injuries by Make. I am checking for over/under representation of figures. \n",
    "execdfc.groupby('Make')['Total.Fatal.Injuries'].sum().apply(lambda x: x/execdfc['Total.Fatal.Injuries'].sum()).sort_values(ascending=False)"
   ]
  },
  {
   "cell_type": "code",
   "execution_count": 48,
   "metadata": {},
   "outputs": [],
   "source": [
    "# Looks like Cessna and Beech are over-represented in the Total Fatal Injuries. Cessna represents 34% of the accidents but accounts for 45% of the total Fatalities"
   ]
  },
  {
   "cell_type": "code",
   "execution_count": 49,
   "metadata": {
    "scrolled": false
   },
   "outputs": [
    {
     "name": "stderr",
     "output_type": "stream",
     "text": [
      "<ipython-input-49-feb9cccba9b9>:2: FutureWarning: Indexing with multiple keys (implicitly converted to a tuple of keys) will be deprecated, use a list instead.\n",
      "  df.groupby('Weather.Condition')['Total.Uninjured','Total.Fatal.Injuries','Total.Minor.Injuries','Total.Serious.Injuries'].sum().plot(kind='bar', xlabel = \"Weather Condition\", title = 'Incidents by Weather Condition')\n"
     ]
    },
    {
     "data": {
      "text/plain": [
       "<AxesSubplot:title={'center':'Incidents by Weather Condition'}, xlabel='Weather Condition'>"
      ]
     },
     "execution_count": 49,
     "metadata": {},
     "output_type": "execute_result"
    },
    {
     "data": {
      "image/png": "[encoded data removed]",
      "text/plain": [
       "<Figure size 432x288 with 1 Axes>"
      ]
     },
     "metadata": {
      "needs_background": "light"
     },
     "output_type": "display_data"
    }
   ],
   "source": [
    "# Check Fatalities by Weather Condition\n",
    "df.groupby('Weather.Condition')['Total.Uninjured','Total.Fatal.Injuries','Total.Minor.Injuries','Total.Serious.Injuries'].sum().plot(kind='bar', xlabel = \"Weather Condition\", title = 'Incidents by Weather Condition')"
   ]
  },
  {
   "cell_type": "code",
   "execution_count": 50,
   "metadata": {
    "scrolled": true
   },
   "outputs": [
    {
     "name": "stderr",
     "output_type": "stream",
     "text": [
      "<ipython-input-50-aa14af72a888>:2: FutureWarning: Indexing with multiple keys (implicitly converted to a tuple of keys) will be deprecated, use a list instead.\n",
      "  execdfc.groupby('Weather.Condition')['Total.Uninjured','Total.Fatal.Injuries','Total.Minor.Injuries','Total.Serious.Injuries'].sum().plot(kind='bar', title = 'Incidents by Weather Condition - Executive Travel only')\n"
     ]
    },
    {
     "data": {
      "text/plain": [
       "<AxesSubplot:title={'center':'Incidents by Weather Condition - Executive Travel only'}, xlabel='Weather.Condition'>"
      ]
     },
     "execution_count": 50,
     "metadata": {},
     "output_type": "execute_result"
    },
    {
     "data": {
      "image/png": "[encoded data removed]",
      "text/plain": [
       "<Figure size 432x288 with 1 Axes>"
      ]
     },
     "metadata": {
      "needs_background": "light"
     },
     "output_type": "display_data"
    }
   ],
   "source": [
    "#Check Fatalities by Weather COndition - Executive Travel\n",
    "execdfc.groupby('Weather.Condition')['Total.Uninjured','Total.Fatal.Injuries','Total.Minor.Injuries','Total.Serious.Injuries'].sum().plot(kind='bar', title = 'Incidents by Weather Condition - Executive Travel only')"
   ]
  },
  {
   "cell_type": "code",
   "execution_count": 51,
   "metadata": {},
   "outputs": [],
   "source": [
    "# Looks like there are far more uninjured passengers in VMC conditions than IMC for both the general dataset and the executive dataset"
   ]
  },
  {
   "cell_type": "code",
   "execution_count": 52,
   "metadata": {},
   "outputs": [
    {
     "data": {
      "text/plain": [
       "<AxesSubplot:title={'center':'Total Fatalities by Engine Type - Executive Travel only'}, xlabel='Engine Type', ylabel='Total Fatalities'>"
      ]
     },
     "execution_count": 52,
     "metadata": {},
     "output_type": "execute_result"
    },
    {
     "data": {
      "image/png": "[encoded data removed]",
      "text/plain": [
       "<Figure size 432x288 with 1 Axes>"
      ]
     },
     "metadata": {
      "needs_background": "light"
     },
     "output_type": "display_data"
    }
   ],
   "source": [
    "#Checking Engine type and Fatalities - Executive Travel\n",
    "execdf.groupby('Engine.Type')['Total.Fatal.Injuries'].sum().sort_values(ascending=False).plot(kind='bar', xlabel = \"Engine Type\", ylabel = \"Total Fatalities\", title = 'Total Fatalities by Engine Type - Executive Travel only')"
   ]
  },
  {
   "cell_type": "code",
   "execution_count": 53,
   "metadata": {},
   "outputs": [
    {
     "data": {
      "text/plain": [
       "<AxesSubplot:title={'center':'Total Fatalities by Engine Type'}, xlabel='Engine Type', ylabel='Total Fatalities'>"
      ]
     },
     "execution_count": 53,
     "metadata": {},
     "output_type": "execute_result"
    },
    {
     "data": {
      "image/png": "[encoded data removed]",
      "text/plain": [
       "<Figure size 432x288 with 1 Axes>"
      ]
     },
     "metadata": {
      "needs_background": "light"
     },
     "output_type": "display_data"
    }
   ],
   "source": [
    "#Checking Fatalities by Engine Type (all dataset)\n",
    "df.groupby('Engine.Type')['Total.Fatal.Injuries'].sum().sort_values(ascending=False).plot(kind='bar', xlabel= \"Engine Type\", ylabel = \"Total Fatalities\", title = \"Total Fatalities by Engine Type\")"
   ]
  },
  {
   "cell_type": "code",
   "execution_count": 54,
   "metadata": {},
   "outputs": [
    {
     "data": {
      "text/plain": [
       "<AxesSubplot:title={'center':'Total Fatalities by Phase of Flight'}, xlabel='Phase of Flight', ylabel='Total Fatalities'>"
      ]
     },
     "execution_count": 54,
     "metadata": {},
     "output_type": "execute_result"
    },
    {
     "data": {
      "image/png": "[encoded data removed]",
      "text/plain": [
       "<Figure size 432x288 with 1 Axes>"
      ]
     },
     "metadata": {
      "needs_background": "light"
     },
     "output_type": "display_data"
    }
   ],
   "source": [
    "#Checking Fatalities by phase of flight (all dataset)\n",
    "df.groupby('Broad.phase.of.flight')['Total.Fatal.Injuries'].sum().sort_values().plot(kind='bar', xlabel = \"Phase of Flight\", ylabel = \"Total Fatalities\", title = 'Total Fatalities by Phase of Flight')"
   ]
  },
  {
   "cell_type": "code",
   "execution_count": 55,
   "metadata": {},
   "outputs": [
    {
     "data": {
      "text/plain": [
       "<AxesSubplot:title={'center':'Total Fatalities by Phase of flight - Executive travel only'}, xlabel='Phase of Flight', ylabel='Total Fatalities'>"
      ]
     },
     "execution_count": 55,
     "metadata": {},
     "output_type": "execute_result"
    },
    {
     "data": {
      "image/png": "[encoded data removed]",
      "text/plain": [
       "<Figure size 432x288 with 1 Axes>"
      ]
     },
     "metadata": {
      "needs_background": "light"
     },
     "output_type": "display_data"
    }
   ],
   "source": [
    "#Checking Fatalities by phase of flight - Executive Travel only\n",
    "execdfc.groupby('Broad.phase.of.flight')['Total.Fatal.Injuries'].sum().sort_values().plot(kind='bar', xlabel = \"Phase of Flight\", ylabel = \"Total Fatalities\", title = 'Total Fatalities by Phase of flight - Executive travel only')"
   ]
  },
  {
   "cell_type": "code",
   "execution_count": 56,
   "metadata": {},
   "outputs": [
    {
     "data": {
      "text/plain": [
       "<AxesSubplot:title={'center':'Total Fatalities by Year - Executive Travel only'}, xlabel='Year', ylabel='Total Fatalities'>"
      ]
     },
     "execution_count": 56,
     "metadata": {},
     "output_type": "execute_result"
    },
    {
     "data": {
      "image/png": "[encoded data removed]",
      "text/plain": [
       "<Figure size 1080x576 with 1 Axes>"
      ]
     },
     "metadata": {
      "needs_background": "light"
     },
     "output_type": "display_data"
    }
   ],
   "source": [
    "#Fatalities by Year - Executive travel only\n",
    "execdfc.groupby(['Year'])['Total.Fatal.Injuries'].sum().plot(kind='line', figsize =(15,8), ylabel = \"Total Fatalities\", title = 'Total Fatalities by Year - Executive Travel only')"
   ]
  },
  {
   "cell_type": "code",
   "execution_count": 57,
   "metadata": {},
   "outputs": [
    {
     "data": {
      "text/plain": [
       "<AxesSubplot:title={'center':'Total Fatalities by Year'}, xlabel='Year', ylabel='Total Fatalities'>"
      ]
     },
     "execution_count": 57,
     "metadata": {},
     "output_type": "execute_result"
    },
    {
     "data": {
      "image/png": "[encoded data removed]",
      "text/plain": [
       "<Figure size 1080x576 with 1 Axes>"
      ]
     },
     "metadata": {
      "needs_background": "light"
     },
     "output_type": "display_data"
    }
   ],
   "source": [
    "#Fatalities by Year - all dataset\n",
    "df.groupby(['Year'])['Total.Fatal.Injuries'].sum().plot(kind='line', figsize =(15,8), ylabel = \"Total Fatalities\", xlim =[1980,2020], title = 'Total Fatalities by Year')"
   ]
  },
  {
   "cell_type": "code",
   "execution_count": 58,
   "metadata": {},
   "outputs": [
    {
     "data": {
      "text/html": [
       "<div>\n",
       "<style scoped>\n",
       "    .dataframe tbody tr th:only-of-type {\n",
       "        vertical-align: middle;\n",
       "    }\n",
       "\n",
       "    .dataframe tbody tr th {\n",
       "        vertical-align: top;\n",
       "    }\n",
       "\n",
       "    .dataframe thead th {\n",
       "        text-align: right;\n",
       "    }\n",
       "</style>\n",
       "<table border=\"1\" class=\"dataframe\">\n",
       "  <thead>\n",
       "    <tr style=\"text-align: right;\">\n",
       "      <th></th>\n",
       "      <th>Number.of.Engines</th>\n",
       "      <th>Total.Fatal.Injuries</th>\n",
       "      <th>Total.Serious.Injuries</th>\n",
       "      <th>Total.Minor.Injuries</th>\n",
       "      <th>Total.Uninjured</th>\n",
       "    </tr>\n",
       "  </thead>\n",
       "  <tbody>\n",
       "    <tr>\n",
       "      <th>Number.of.Engines</th>\n",
       "      <td>1.000000</td>\n",
       "      <td>0.043123</td>\n",
       "      <td>0.029086</td>\n",
       "      <td>-0.031521</td>\n",
       "      <td>0.120158</td>\n",
       "    </tr>\n",
       "    <tr>\n",
       "      <th>Total.Fatal.Injuries</th>\n",
       "      <td>0.043123</td>\n",
       "      <td>1.000000</td>\n",
       "      <td>0.039848</td>\n",
       "      <td>0.082500</td>\n",
       "      <td>-0.162113</td>\n",
       "    </tr>\n",
       "    <tr>\n",
       "      <th>Total.Serious.Injuries</th>\n",
       "      <td>0.029086</td>\n",
       "      <td>0.039848</td>\n",
       "      <td>1.000000</td>\n",
       "      <td>0.163929</td>\n",
       "      <td>-0.096474</td>\n",
       "    </tr>\n",
       "    <tr>\n",
       "      <th>Total.Minor.Injuries</th>\n",
       "      <td>-0.031521</td>\n",
       "      <td>0.082500</td>\n",
       "      <td>0.163929</td>\n",
       "      <td>1.000000</td>\n",
       "      <td>-0.093563</td>\n",
       "    </tr>\n",
       "    <tr>\n",
       "      <th>Total.Uninjured</th>\n",
       "      <td>0.120158</td>\n",
       "      <td>-0.162113</td>\n",
       "      <td>-0.096474</td>\n",
       "      <td>-0.093563</td>\n",
       "      <td>1.000000</td>\n",
       "    </tr>\n",
       "  </tbody>\n",
       "</table>\n",
       "</div>"
      ],
      "text/plain": [
       "                        Number.of.Engines  Total.Fatal.Injuries  \\\n",
       "Number.of.Engines                1.000000              0.043123   \n",
       "Total.Fatal.Injuries             0.043123              1.000000   \n",
       "Total.Serious.Injuries           0.029086              0.039848   \n",
       "Total.Minor.Injuries            -0.031521              0.082500   \n",
       "Total.Uninjured                  0.120158             -0.162113   \n",
       "\n",
       "                        Total.Serious.Injuries  Total.Minor.Injuries  \\\n",
       "Number.of.Engines                     0.029086             -0.031521   \n",
       "Total.Fatal.Injuries                  0.039848              0.082500   \n",
       "Total.Serious.Injuries                1.000000              0.163929   \n",
       "Total.Minor.Injuries                  0.163929              1.000000   \n",
       "Total.Uninjured                      -0.096474             -0.093563   \n",
       "\n",
       "                        Total.Uninjured  \n",
       "Number.of.Engines              0.120158  \n",
       "Total.Fatal.Injuries          -0.162113  \n",
       "Total.Serious.Injuries        -0.096474  \n",
       "Total.Minor.Injuries          -0.093563  \n",
       "Total.Uninjured                1.000000  "
      ]
     },
     "execution_count": 58,
     "metadata": {},
     "output_type": "execute_result"
    }
   ],
   "source": [
    "#Checking for any correlation between Engine number and Number of Injuries\n",
    "execdfc.loc[:,['Number.of.Engines','Total.Fatal.Injuries','Total.Serious.Injuries','Total.Minor.Injuries','Total.Uninjured']].corr()"
   ]
  },
  {
   "cell_type": "code",
   "execution_count": 59,
   "metadata": {},
   "outputs": [
    {
     "data": {
      "text/html": [
       "<div>\n",
       "<style scoped>\n",
       "    .dataframe tbody tr th:only-of-type {\n",
       "        vertical-align: middle;\n",
       "    }\n",
       "\n",
       "    .dataframe tbody tr th {\n",
       "        vertical-align: top;\n",
       "    }\n",
       "\n",
       "    .dataframe thead th {\n",
       "        text-align: right;\n",
       "    }\n",
       "</style>\n",
       "<table border=\"1\" class=\"dataframe\">\n",
       "  <thead>\n",
       "    <tr style=\"text-align: right;\">\n",
       "      <th></th>\n",
       "      <th>Number.of.Engines</th>\n",
       "      <th>Total.Fatal.Injuries</th>\n",
       "      <th>Total.Serious.Injuries</th>\n",
       "      <th>Total.Minor.Injuries</th>\n",
       "      <th>Total.Uninjured</th>\n",
       "    </tr>\n",
       "  </thead>\n",
       "  <tbody>\n",
       "    <tr>\n",
       "      <th>Number.of.Engines</th>\n",
       "      <td>1.000000</td>\n",
       "      <td>0.100745</td>\n",
       "      <td>0.047952</td>\n",
       "      <td>0.101133</td>\n",
       "      <td>0.410814</td>\n",
       "    </tr>\n",
       "    <tr>\n",
       "      <th>Total.Fatal.Injuries</th>\n",
       "      <td>0.100745</td>\n",
       "      <td>1.000000</td>\n",
       "      <td>0.135981</td>\n",
       "      <td>0.073759</td>\n",
       "      <td>-0.015361</td>\n",
       "    </tr>\n",
       "    <tr>\n",
       "      <th>Total.Serious.Injuries</th>\n",
       "      <td>0.047952</td>\n",
       "      <td>0.135981</td>\n",
       "      <td>1.000000</td>\n",
       "      <td>0.327151</td>\n",
       "      <td>0.052733</td>\n",
       "    </tr>\n",
       "    <tr>\n",
       "      <th>Total.Minor.Injuries</th>\n",
       "      <td>0.101133</td>\n",
       "      <td>0.073759</td>\n",
       "      <td>0.327151</td>\n",
       "      <td>1.000000</td>\n",
       "      <td>0.148004</td>\n",
       "    </tr>\n",
       "    <tr>\n",
       "      <th>Total.Uninjured</th>\n",
       "      <td>0.410814</td>\n",
       "      <td>-0.015361</td>\n",
       "      <td>0.052733</td>\n",
       "      <td>0.148004</td>\n",
       "      <td>1.000000</td>\n",
       "    </tr>\n",
       "  </tbody>\n",
       "</table>\n",
       "</div>"
      ],
      "text/plain": [
       "                        Number.of.Engines  Total.Fatal.Injuries  \\\n",
       "Number.of.Engines                1.000000              0.100745   \n",
       "Total.Fatal.Injuries             0.100745              1.000000   \n",
       "Total.Serious.Injuries           0.047952              0.135981   \n",
       "Total.Minor.Injuries             0.101133              0.073759   \n",
       "Total.Uninjured                  0.410814             -0.015361   \n",
       "\n",
       "                        Total.Serious.Injuries  Total.Minor.Injuries  \\\n",
       "Number.of.Engines                     0.047952              0.101133   \n",
       "Total.Fatal.Injuries                  0.135981              0.073759   \n",
       "Total.Serious.Injuries                1.000000              0.327151   \n",
       "Total.Minor.Injuries                  0.327151              1.000000   \n",
       "Total.Uninjured                       0.052733              0.148004   \n",
       "\n",
       "                        Total.Uninjured  \n",
       "Number.of.Engines              0.410814  \n",
       "Total.Fatal.Injuries          -0.015361  \n",
       "Total.Serious.Injuries         0.052733  \n",
       "Total.Minor.Injuries           0.148004  \n",
       "Total.Uninjured                1.000000  "
      ]
     },
     "execution_count": 59,
     "metadata": {},
     "output_type": "execute_result"
    }
   ],
   "source": [
    "##Checking for any correlation between Engine number and Number of Injuries\n",
    "df.loc[:,['Number.of.Engines','Total.Fatal.Injuries','Total.Serious.Injuries','Total.Minor.Injuries','Total.Uninjured']].corr()"
   ]
  },
  {
   "cell_type": "code",
   "execution_count": 60,
   "metadata": {},
   "outputs": [
    {
     "data": {
      "text/plain": [
       "<AxesSubplot:title={'center':'Executive Travel - Incident breakdown - Cessna'}, xlabel='Injury Severity', ylabel='Proportion of Total Incidents'>"
      ]
     },
     "execution_count": 60,
     "metadata": {},
     "output_type": "execute_result"
    },
    {
     "data": {
      "image/png": "[encoded data removed]",
      "text/plain": [
       "<Figure size 432x288 with 1 Axes>"
      ]
     },
     "metadata": {
      "needs_background": "light"
     },
     "output_type": "display_data"
    }
   ],
   "source": [
    "#Fatal vs Non-Fatal breakdown by Make. In this case Make is Cessna\n",
    "execdfc[execdfc['Make']=='Cessna']['Injury.Severity'].value_counts(normalize=True).plot(kind='bar', xlabel = \"Injury Severity\", ylabel = 'Proportion of Total Incidents', title = 'Executive Travel - Incident breakdown - Cessna')"
   ]
  },
  {
   "cell_type": "code",
   "execution_count": 61,
   "metadata": {},
   "outputs": [
    {
     "data": {
      "text/plain": [
       "<AxesSubplot:title={'center':'Executive Travel - Incident Breakdown - Piper'}, xlabel='Injury Severity', ylabel='Proportion of Total Incidents'>"
      ]
     },
     "execution_count": 61,
     "metadata": {},
     "output_type": "execute_result"
    },
    {
     "data": {
      "image/png": "[encoded data removed]",
      "text/plain": [
       "<Figure size 432x288 with 1 Axes>"
      ]
     },
     "metadata": {
      "needs_background": "light"
     },
     "output_type": "display_data"
    }
   ],
   "source": [
    "#Fatal vs Non-Fatal breakdown by Make. In this case Make is Piper\n",
    "execdfc[execdfc['Make']=='Piper']['Injury.Severity'].value_counts(normalize=True).plot(kind='bar', xlabel = \"Injury Severity\", ylabel = 'Proportion of Total Incidents', title='Executive Travel - Incident Breakdown - Piper')"
   ]
  },
  {
   "cell_type": "code",
   "execution_count": 62,
   "metadata": {},
   "outputs": [
    {
     "data": {
      "text/plain": [
       "<AxesSubplot:title={'center':'Executive Travel - Incident Breakdown - Beech'}, xlabel='Injury Severity', ylabel='Proportion of Total Incidents'>"
      ]
     },
     "execution_count": 62,
     "metadata": {},
     "output_type": "execute_result"
    },
    {
     "data": {
      "image/png": "[encoded data removed]",
      "text/plain": [
       "<Figure size 432x288 with 1 Axes>"
      ]
     },
     "metadata": {
      "needs_background": "light"
     },
     "output_type": "display_data"
    }
   ],
   "source": [
    "#Fatal vs Non-Fatal breakdown by Make. In this case Make is Beech\n",
    "execdfc[execdfc['Make']=='Beech']['Injury.Severity'].value_counts(normalize=True).plot(kind='bar', xlabel = \"Injury Severity\", ylabel = 'Proportion of Total Incidents', title = \"Executive Travel - Incident Breakdown - Beech\")"
   ]
  },
  {
   "cell_type": "code",
   "execution_count": 63,
   "metadata": {},
   "outputs": [
    {
     "data": {
      "text/plain": [
       "<AxesSubplot:title={'center':'Executive Travel - Incident breakdown - Learjet'}, xlabel='Injury Severity', ylabel='Proportion of Total Incidents'>"
      ]
     },
     "execution_count": 63,
     "metadata": {},
     "output_type": "execute_result"
    },
    {
     "data": {
      "image/png": "[encoded data removed]",
      "text/plain": [
       "<Figure size 432x288 with 1 Axes>"
      ]
     },
     "metadata": {
      "needs_background": "light"
     },
     "output_type": "display_data"
    }
   ],
   "source": [
    "#Fatal vs Non-Fatal breakdown by Make. In this case Make is Learjet\n",
    "execdfc[execdfc['Make']=='Learjet']['Injury.Severity'].value_counts(normalize=True).plot(kind='bar',\n",
    "xlabel = \"Injury Severity\", ylabel = 'Proportion of Total Incidents', title = \"Executive Travel - Incident breakdown - Learjet\")"
   ]
  },
  {
   "cell_type": "code",
   "execution_count": 64,
   "metadata": {
    "scrolled": true
   },
   "outputs": [
    {
     "data": {
      "text/plain": [
       "<AxesSubplot:title={'center':'Executive Travel - Incident Breakdown - Gulfstream'}, xlabel='Injury Severity', ylabel='Proportion of Total Incidents'>"
      ]
     },
     "execution_count": 64,
     "metadata": {},
     "output_type": "execute_result"
    },
    {
     "data": {
      "image/png": "[encoded data removed]",
      "text/plain": [
       "<Figure size 432x288 with 1 Axes>"
      ]
     },
     "metadata": {
      "needs_background": "light"
     },
     "output_type": "display_data"
    }
   ],
   "source": [
    "#Fatal vs Non-Fatal breakdown by Make. In this case Make is Gulfstream\n",
    "execdfc[execdfc['Make']=='Gulfstream']['Injury.Severity'].value_counts(normalize=True).plot(kind='bar',\n",
    "xlabel = \"Injury Severity\", ylabel = 'Proportion of Total Incidents', title=\"Executive Travel - Incident Breakdown - Gulfstream\")"
   ]
  },
  {
   "cell_type": "code",
   "execution_count": 65,
   "metadata": {
    "scrolled": true
   },
   "outputs": [
    {
     "data": {
      "text/plain": [
       "<AxesSubplot:title={'center':'Executive Travel - Incident Breakdown - Dassault'}, xlabel='Injury Severity', ylabel='Proportion of Total Incidents'>"
      ]
     },
     "execution_count": 65,
     "metadata": {},
     "output_type": "execute_result"
    },
    {
     "data": {
      "image/png": "[encoded data removed]",
      "text/plain": [
       "<Figure size 432x288 with 1 Axes>"
      ]
     },
     "metadata": {
      "needs_background": "light"
     },
     "output_type": "display_data"
    }
   ],
   "source": [
    "#Fatal vs Non-Fatal breakdown by Make. In this case Make is Dassault\n",
    "execdfc[execdfc['Make']=='Dassault']['Injury.Severity'].value_counts(normalize=True).plot(kind='bar', xlabel = \"Injury Severity\",\n",
    "ylabel = 'Proportion of Total Incidents', title = 'Executive Travel - Incident Breakdown - Dassault')"
   ]
  },
  {
   "cell_type": "code",
   "execution_count": 66,
   "metadata": {},
   "outputs": [
    {
     "data": {
      "text/plain": [
       "<AxesSubplot:title={'center':'Proportion of accidents during Instrument weather conditions - Executive Travel Only'}, xlabel='Injury Severity', ylabel='Proportion of Total Incidents'>"
      ]
     },
     "execution_count": 66,
     "metadata": {},
     "output_type": "execute_result"
    },
    {
     "data": {
      "image/png": "[encoded data removed]",
      "text/plain": [
       "<Figure size 432x288 with 1 Axes>"
      ]
     },
     "metadata": {
      "needs_background": "light"
     },
     "output_type": "display_data"
    }
   ],
   "source": [
    "#Splitup of accidents by proportion under IMC conditions meaning there is ideal visual clarity. This considers only executive travel dataset\n",
    "execdf[execdf['Weather.Condition']=='IMC']['Injury.Severity'].value_counts(normalize=True).plot(kind='bar',\n",
    "xlabel = 'Injury Severity', ylabel = 'Proportion of Total Incidents', title ='Proportion of accidents during Instrument weather conditions - Executive Travel Only')"
   ]
  },
  {
   "cell_type": "code",
   "execution_count": 67,
   "metadata": {},
   "outputs": [
    {
     "data": {
      "text/plain": [
       "<AxesSubplot:title={'center':'Proportion of accidents during VMC Weather conditions - Executive travel only'}, xlabel='Injury Severity', ylabel='Proportion of Total Incidents'>"
      ]
     },
     "execution_count": 67,
     "metadata": {},
     "output_type": "execute_result"
    },
    {
     "data": {
      "image/png": "[encoded data removed]",
      "text/plain": [
       "<Figure size 432x288 with 1 Axes>"
      ]
     },
     "metadata": {
      "needs_background": "light"
     },
     "output_type": "display_data"
    }
   ],
   "source": [
    "#Splitup of accidents by proportion under VMC conditions meaning there is ideal visual clarity. This considers only executive travel dataset\n",
    "execdf[execdf['Weather.Condition']=='VMC']['Injury.Severity'].value_counts(normalize=True).plot(kind='bar',\n",
    "xlabel = 'Injury Severity', ylabel = 'Proportion of Total Incidents', title = 'Proportion of accidents during VMC Weather conditions - Executive travel only' )"
   ]
  },
  {
   "cell_type": "code",
   "execution_count": 68,
   "metadata": {},
   "outputs": [
    {
     "data": {
      "text/plain": [
       "<AxesSubplot:title={'center':'Proportion of accidents during VMC weather conditions'}, xlabel='Injury Severity', ylabel='Proportion of Total Incidents'>"
      ]
     },
     "execution_count": 68,
     "metadata": {},
     "output_type": "execute_result"
    },
    {
     "data": {
      "image/png": "[encoded data removed]",
      "text/plain": [
       "<Figure size 432x288 with 1 Axes>"
      ]
     },
     "metadata": {
      "needs_background": "light"
     },
     "output_type": "display_data"
    }
   ],
   "source": [
    "#Proportion of Fatal accidents under VMC conditions meaning there is ideal visual clarity. This considers entire dataset\n",
    "df[df['Weather.Condition']=='VMC']['Injury.Severity'].value_counts(normalize=True).plot(kind='bar', xlabel = 'Injury Severity', ylabel = 'Proportion of Total Incidents',\n",
    "title = 'Proportion of accidents during VMC weather conditions')"
   ]
  },
  {
   "cell_type": "code",
   "execution_count": 69,
   "metadata": {},
   "outputs": [
    {
     "data": {
      "text/plain": [
       "<AxesSubplot:title={'center':'Proportion of Fatal accidents during Instrument weather conditions'}, xlabel='Injury Severity', ylabel='Proportion of Total Incidents'>"
      ]
     },
     "execution_count": 69,
     "metadata": {},
     "output_type": "execute_result"
    },
    {
     "data": {
      "image/png": "[encoded data removed]",
      "text/plain": [
       "<Figure size 432x288 with 1 Axes>"
      ]
     },
     "metadata": {
      "needs_background": "light"
     },
     "output_type": "display_data"
    }
   ],
   "source": [
    "#Proportion of Fatal accidents during Instrument weather conditions - meaning weather conditions are poor.\n",
    "df[df['Weather.Condition']=='IMC']['Injury.Severity'].value_counts(normalize=True).plot(kind='bar', xlabel = 'Injury Severity', ylabel = 'Proportion of Total Incidents', title = 'Proportion of Fatal accidents during Instrument weather conditions')"
   ]
  },
  {
   "cell_type": "code",
   "execution_count": 70,
   "metadata": {},
   "outputs": [],
   "source": [
    "#import os\n",
    "#Create new CSV to work on Tableau\n",
    "df.to_csv('data/Aviationnew.csv')"
   ]
  },
  {
   "cell_type": "code",
   "execution_count": 71,
   "metadata": {
    "scrolled": true
   },
   "outputs": [
    {
     "data": {
      "text/plain": [
       "3845     LR-25\n",
       "6338       35A\n",
       "7085       25D\n",
       "37322      35A\n",
       "46480       60\n",
       "49949    LJ-60\n",
       "56031      24B\n",
       "72996       25\n",
       "Name: Model, dtype: object"
      ]
     },
     "execution_count": 71,
     "metadata": {},
     "output_type": "execute_result"
    }
   ],
   "source": [
    "execdf[(execdf['Make']=='Learjet')& (execdf['Engine.Type']=='Turbo Jet')]['Model']"
   ]
  },
  {
   "cell_type": "markdown",
   "metadata": {},
   "source": [
    "# Conclusions"
   ]
  },
  {
   "cell_type": "markdown",
   "metadata": {},
   "source": [
    "1. More Fatal Accidents have happened during personal travel than any other purpose of travel\n",
    "2. Weather plays a more important factor than the type of plane. Under poorer weather conditions with less visual clarity, nearly 80% of accidents are fatal accidents, whereas under better visual conditions, only ~17% of incidents are fatal\n",
    "3. Although Fatal accidents have been occuring until very recently. Not many have happened recently in Executive or Corporate/Jet travel\n",
    "4. Planes with Reciprocating engines are the ones with the highest number of fatalities, so it is best to avoid such planes. Turbojets have the lowest number of fatalities\n",
    "5. According to the entire dataset, the most fatalities occured during the \"Cruise\" Phase of flight, however, the highest fatalities in executive/corporate travel occured during the \"Approach\" phase of the flight. Pilots flying corporate jets have to be particularly more careful when approaching\n"
   ]
  },
  {
   "cell_type": "markdown",
   "metadata": {},
   "source": []
  },
  {
   "cell_type": "markdown",
   "metadata": {},
   "source": [
    "## Limitations"
   ]
  },
  {
   "cell_type": "markdown",
   "metadata": {},
   "source": []
  },
  {
   "cell_type": "markdown",
   "metadata": {},
   "source": [
    "1. We are considering plane options from a perspective of safety. There are other factors to consider:\n",
    "    \n",
    "        a. Cost - What budget does the company have. Will the company have access to financing to purchase the plane\n",
    "    \n",
    "        b. Passenger Capacity: How many people would like to travel at a time?\n",
    "    \n",
    "        c. Flight Range: What kind of distances would the company look at traveling\n",
    "    \n",
    "    \n",
    " 2. Even when looking at safety there are other factors to consider:\n",
    "     \n",
    "         a. Most fatal accidents have happened under poorer visual conditions. Perhaps rather than focusing on the type of             plane, it might be better to focus on the flying conditions and fly during better weather conditions\n",
    "     \n",
    " \n",
    " 3. When assessing safety from the point of view of Total Fatal Injuries, it can be misleading as we don't know the plane passenger capacity. For example, we see that Cessna planes have the highest proportion of fatal injuries. That could be a safety issue, or it could be they are bigger planes carrying more people so, when there is an accident it is likely to have more fatal injuries\n",
    "    \n",
    "    "
   ]
  },
  {
   "cell_type": "markdown",
   "metadata": {},
   "source": [
    "## Recommendations"
   ]
  },
  {
   "cell_type": "markdown",
   "metadata": {},
   "source": [
    "1. Avoid flying if inclement weather is forecasted. Weather plays a very strong role in creating accidents as the data has shown above. Therefore, it is very important that pilots pay attention to weather forecasts when preparing to travel. Executives must take calls to avoid travel if inclement weather is forecasted as the type of plane becomes irrelevant in that case.\n",
    "\n",
    "\n",
    "2. Avoid reciprocating engine as aircrafts with these engines are involved in the highest number of fatalities. Aircrafts with Turbojet engines have the lowest fatalities so I would recommend an aircraft with a Turbojet\n",
    "\n",
    "\n",
    "3. Develop Approach through the use of flight simulators. The highest number of fatalities have occured during the Approach phase of the flight. So it is very important that pilots take care and develop their approach skills through the use of flight simulators. \n",
    "\n",
    "\n",
    "4. Final recommendation of aircraft:Since our intended purpose of travel is Corporate travel, Learjets are underrepresented in terms of total fatal accidents. Meaning Learjets make up 3% of the total incident/accident but only represent 1% of the total fatalities. So among the Learjet I would recommend one with a Turbojet engine as those are the ones with the least number of incidents and fatalities, so to name one model it would be a Learjet LR -25. There are other Makes of planes with lower number of fatalities than Learjet but those numbers are too small to have any statistical significance."
   ]
  },
  {
   "cell_type": "markdown",
   "metadata": {},
   "source": [
    "## Next Steps\n",
    "\n",
    "We have researched planes from a safety perspective. Next we would need to look at the data from other angles as mentioned in the limitation section e.g. budget, passenger capacity flight range etc."
   ]
  },
  {
   "cell_type": "markdown",
   "metadata": {},
   "source": [
    "## For More Information\n",
    "\n",
    "To access the Tableau dashboard for this dataset please use this [link](https://public.tableau.com/app/profile/balram.ottapathu/viz/AircraftDashboard_16889579776570/Dashboard1#1)\n",
    "\n",
    "For additional info, contact Balram Ottapathu via [LinkedIn](https://www.linkedin.com/in/balramo92/) or balramo92@gmail.com"
   ]
  },
  {
   "cell_type": "code",
   "execution_count": null,
   "metadata": {},
   "outputs": [],
   "source": []
  }
 ],
 "metadata": {
  "kernelspec": {
   "display_name": "Python (learn-env)",
   "language": "python",
   "name": "learn-env"
  },
  "language_info": {
   "codemirror_mode": {
    "name": "ipython",
    "version": 3
   },
   "file_extension": ".py",
   "mimetype": "text/x-python",
   "name": "python",
   "nbconvert_exporter": "python",
   "pygments_lexer": "ipython3",
   "version": "3.8.5"
  }
 },
 "nbformat": 4,
 "nbformat_minor": 4
}
